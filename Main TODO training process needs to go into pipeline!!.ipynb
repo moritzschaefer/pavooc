{
 "cells": [
  {
   "cell_type": "code",
   "execution_count": 1,
   "metadata": {
    "collapsed": true
   },
   "outputs": [],
   "source": [
    "import numpy as np\n",
    "import re\n",
    "import pandas as pd\n",
    "import torch\n",
    "import torch.autograd\n",
    "import torch.nn.functional as F\n",
    "from torch import nn\n",
    "from torch.autograd import Variable\n",
    "from torch.utils.data import Dataset, DataLoader\n",
    "from scipy.stats.mstats import spearmanr\n",
    "from sklearn.externals import joblib\n",
    "\n",
    "from pavooc.scoring.feature_extraction import extract_features, split_test_train_valid, normalize_features\n",
    "from pavooc.scoring.azimuth_dataset import load_dataset\n",
    "from pavooc.scoring import models\n",
    "from pavooc.scoring.helper import run_model, run_models, train_predict_n_shuffles\n",
    "from pavooc.scoring.training import cv_train_test\n",
    "from pavooc.config import CONSERVATION_FEATURES_FILE, SCALER_FILE\n",
    "\n",
    "\n",
    "%load_ext autoreload\n",
    "%autoreload 2\n",
    "%matplotlib inline"
   ]
  },
  {
   "cell_type": "code",
   "execution_count": 2,
   "metadata": {},
   "outputs": [
    {
     "name": "stdout",
     "output_type": "stream",
     "text": [
      "Loaded 149 samples for gene CCDC101 \ttotal number of samples: 149\n",
      "Loaded 924 samples for gene MED12 \ttotal number of samples: 1073\n",
      "Loaded 190 samples for gene TADA2B \ttotal number of samples: 1263\n",
      "Loaded 109 samples for gene TADA1 \ttotal number of samples: 1372\n",
      "Loaded 64 samples for gene HPRT1 \ttotal number of samples: 1436\n",
      "Loaded 154 samples for gene CUL3 \ttotal number of samples: 1590\n",
      "Loaded 736 samples for gene NF1 \ttotal number of samples: 2326\n",
      "Loaded 223 samples for gene NF2 \ttotal number of samples: 2549\n",
      "Loaded 924 samples for gene MED12 \ttotal number of samples: 3473\n"
     ]
    },
    {
     "data": {
      "text/plain": [
       "['/home/giali/pavooc/pavooc/../data/scaler.pkl']"
      ]
     },
     "execution_count": 2,
     "metadata": {},
     "output_type": "execute_result"
    }
   ],
   "source": [
    "Xdf, Y, gene_position, target_genes = load_dataset()\n",
    "conservation_scores = pd.read_csv(CONSERVATION_FEATURES_FILE, index_col=0)\n",
    "\n",
    "combined_features, y, genes, feature_names = extract_features(Xdf, Y, gene_position, conservation_scores, order=1)\n",
    "normalized_features, scaler = normalize_features(combined_features)\n",
    "X_train, X_test, y_train, y_test, validation_fold, _ = split_test_train_valid(combined_features, y, joint_scaling=True)\n",
    "\n",
    "joblib.dump(scaler, SCALER_FILE)"
   ]
  },
  {
   "cell_type": "code",
   "execution_count": 3,
   "metadata": {},
   "outputs": [
    {
     "data": {
      "text/plain": [
       "['/home/giali/pavooc/pavooc/../data/scaler.pkl']"
      ]
     },
     "execution_count": 3,
     "metadata": {},
     "output_type": "execute_result"
    }
   ],
   "source": [
    "\n",
    "from sklearn.externals import joblib\n",
    "\n",
    "from pavooc.config import CONSERVATION_FEATURES_FILE, SCALER_FILE\n",
    "joblib.dump(scaler, SCALER_FILE)"
   ]
  },
  {
   "cell_type": "code",
   "execution_count": 208,
   "metadata": {},
   "outputs": [
    {
     "data": {
      "text/plain": [
       "160"
      ]
     },
     "execution_count": 208,
     "metadata": {},
     "output_type": "execute_result"
    }
   ],
   "source": [
    "len(feature_names)\n"
   ]
  },
  {
   "cell_type": "code",
   "execution_count": 209,
   "metadata": {
    "collapsed": true
   },
   "outputs": [],
   "source": [
    "# actually including non-order features as well\n",
    "order1_features = [not re.match('^[ACTG]{2}(_\\d+)?$', feature) for feature in feature_names]\n",
    "order2_features = [True for feature in feature_names]\n",
    "without_conservation = [i < 150 for i in range(160)]\n",
    "# without counts etc..\n",
    "pure_seq1_features = [bool(re.match('^([ACTG]_\\d{1,2})$', feature)) for feature in feature_names]\n",
    "pure_order1_features = [bool(re.match('^([ACTG]_\\d{1,2}|Percent Peptide|Amino Acid Cut position|conservation.*|.*False)$', feature)) for feature in feature_names]\n",
    "pure_order1_without_conservation_features = [bool(re.match('^([ACTG]_\\d{1,2}|Percent Peptide|Amino Acid Cut position|.*False)$', feature)) for feature in feature_names]\n",
    "order1_without_conservation_features = [not re.match('^([ACTG]{2}(_\\d+)?|conservation.*)$', feature) for feature in feature_names]"
   ]
  },
  {
   "cell_type": "code",
   "execution_count": 228,
   "metadata": {},
   "outputs": [],
   "source": [
    "three_output_wo_conv = train_predict_n_shuffles(CNN38ThreeOutput, \n",
    "                                         normalized_features,\n",
    "                                         order1_features,\n",
    "                                         y,\n",
    "                                         7,\n",
    "                                         0.0003,\n",
    "                                         15000)"
   ]
  },
  {
   "cell_type": "code",
   "execution_count": 231,
   "metadata": {},
   "outputs": [],
   "source": [
    "three_output_conv_tvt = three_output_wo_conv"
   ]
  },
  {
   "cell_type": "code",
   "execution_count": 275,
   "metadata": {},
   "outputs": [
    {
     "data": {
      "text/plain": [
       "([0.61346702908077522,\n",
       "  0.61512166976365734,\n",
       "  0.65933156214079303,\n",
       "  0.63466442403837353,\n",
       "  0.63685212409392578,\n",
       "  0.62280554761904272,\n",
       "  0.66142474915034111],\n",
       " [0.63076803757197786,\n",
       "  0.62596949957819192,\n",
       "  0.62454597283730806,\n",
       "  0.61402825570530706,\n",
       "  0.62543545059673122,\n",
       "  0.61312367636351983,\n",
       "  0.63008957981546243],\n",
       " [CNN38ThreeOutput(\n",
       "    (conv1): Conv1d(4, 256, kernel_size=(7,), stride=(1,))\n",
       "    (conv2): Conv1d(256, 1024, kernel_size=(3,), stride=(1,))\n",
       "    (pre_fc): Linear(in_features=160, out_features=256, bias=True)\n",
       "    (fc1): Linear(in_features=2304, out_features=512, bias=True)\n",
       "    (fc2): Linear(in_features=512, out_features=64, bias=True)\n",
       "    (fc3): Linear(in_features=64, out_features=1, bias=True)\n",
       "  ), CNN38ThreeOutput(\n",
       "    (conv1): Conv1d(4, 256, kernel_size=(7,), stride=(1,))\n",
       "    (conv2): Conv1d(256, 1024, kernel_size=(3,), stride=(1,))\n",
       "    (pre_fc): Linear(in_features=160, out_features=256, bias=True)\n",
       "    (fc1): Linear(in_features=2304, out_features=512, bias=True)\n",
       "    (fc2): Linear(in_features=512, out_features=64, bias=True)\n",
       "    (fc3): Linear(in_features=64, out_features=1, bias=True)\n",
       "  ), CNN38ThreeOutput(\n",
       "    (conv1): Conv1d(4, 256, kernel_size=(7,), stride=(1,))\n",
       "    (conv2): Conv1d(256, 1024, kernel_size=(3,), stride=(1,))\n",
       "    (pre_fc): Linear(in_features=160, out_features=256, bias=True)\n",
       "    (fc1): Linear(in_features=2304, out_features=512, bias=True)\n",
       "    (fc2): Linear(in_features=512, out_features=64, bias=True)\n",
       "    (fc3): Linear(in_features=64, out_features=1, bias=True)\n",
       "  ), CNN38ThreeOutput(\n",
       "    (conv1): Conv1d(4, 256, kernel_size=(7,), stride=(1,))\n",
       "    (conv2): Conv1d(256, 1024, kernel_size=(3,), stride=(1,))\n",
       "    (pre_fc): Linear(in_features=160, out_features=256, bias=True)\n",
       "    (fc1): Linear(in_features=2304, out_features=512, bias=True)\n",
       "    (fc2): Linear(in_features=512, out_features=64, bias=True)\n",
       "    (fc3): Linear(in_features=64, out_features=1, bias=True)\n",
       "  ), CNN38ThreeOutput(\n",
       "    (conv1): Conv1d(4, 256, kernel_size=(7,), stride=(1,))\n",
       "    (conv2): Conv1d(256, 1024, kernel_size=(3,), stride=(1,))\n",
       "    (pre_fc): Linear(in_features=160, out_features=256, bias=True)\n",
       "    (fc1): Linear(in_features=2304, out_features=512, bias=True)\n",
       "    (fc2): Linear(in_features=512, out_features=64, bias=True)\n",
       "    (fc3): Linear(in_features=64, out_features=1, bias=True)\n",
       "  ), CNN38ThreeOutput(\n",
       "    (conv1): Conv1d(4, 256, kernel_size=(7,), stride=(1,))\n",
       "    (conv2): Conv1d(256, 1024, kernel_size=(3,), stride=(1,))\n",
       "    (pre_fc): Linear(in_features=160, out_features=256, bias=True)\n",
       "    (fc1): Linear(in_features=2304, out_features=512, bias=True)\n",
       "    (fc2): Linear(in_features=512, out_features=64, bias=True)\n",
       "    (fc3): Linear(in_features=64, out_features=1, bias=True)\n",
       "  ), CNN38ThreeOutput(\n",
       "    (conv1): Conv1d(4, 256, kernel_size=(7,), stride=(1,))\n",
       "    (conv2): Conv1d(256, 1024, kernel_size=(3,), stride=(1,))\n",
       "    (pre_fc): Linear(in_features=160, out_features=256, bias=True)\n",
       "    (fc1): Linear(in_features=2304, out_features=512, bias=True)\n",
       "    (fc2): Linear(in_features=512, out_features=64, bias=True)\n",
       "    (fc3): Linear(in_features=64, out_features=1, bias=True)\n",
       "  )])"
      ]
     },
     "execution_count": 275,
     "metadata": {},
     "output_type": "execute_result"
    }
   ],
   "source": [
    "three_output_conv_tvt"
   ]
  },
  {
   "cell_type": "code",
   "execution_count": 5,
   "metadata": {
    "collapsed": true
   },
   "outputs": [],
   "source": [
    "from pavooc.scoring.models import CNN38"
   ]
  },
  {
   "cell_type": "code",
   "execution_count": null,
   "metadata": {},
   "outputs": [],
   "source": [
    "new_cnn38_results = train_predict_n_shuffles(CNN38ConvSizes, \n",
    "                                         normalized_features,\n",
    "                                         order1_features,\n",
    "                                         y,\n",
    "                                         7,\n",
    "                                         0.0003,\n",
    "                                         20000)"
   ]
  },
  {
   "cell_type": "code",
   "execution_count": 274,
   "metadata": {},
   "outputs": [
    {
     "data": {
      "text/plain": [
       "[0.63076803757197786,\n",
       " 0.62596949957819192,\n",
       " 0.62454597283730806,\n",
       " 0.61402825570530706,\n",
       " 0.62543545059673122,\n",
       " 0.61312367636351983,\n",
       " 0.63008957981546243]"
      ]
     },
     "execution_count": 274,
     "metadata": {},
     "output_type": "execute_result"
    }
   ],
   "source": [
    "three_output_wo_conv[1]"
   ]
  },
  {
   "cell_type": "code",
   "execution_count": 233,
   "metadata": {},
   "outputs": [
    {
     "data": {
      "image/png": "[encoded data removed]",
      "text/plain": [
       "<matplotlib.figure.Figure at 0x7fa37012b6d8>"
      ]
     },
     "metadata": {},
     "output_type": "display_data"
    }
   ],
   "source": [
    "import seaborn as sns\n",
    "import matplotlib.pyplot as plt\n",
    "plt.figure(figsize=(3, 5))\n",
    "sns.boxplot(data=three_output_wo_conv[:2]) # plot validation scores vs test scores\n",
    "sns.despine()\n"
   ]
  },
  {
   "cell_type": "code",
   "execution_count": 181,
   "metadata": {},
   "outputs": [
    {
     "data": {
      "image/png": "[encoded data removed]",
      "text/plain": [
       "<matplotlib.figure.Figure at 0x7fa3707afcc0>"
      ]
     },
     "metadata": {},
     "output_type": "display_data"
    }
   ],
   "source": [
    "import seaborn as sns\n",
    "import matplotlib.pyplot as plt\n",
    "plt.figure(figsize=(3, 5))\n",
    "sns.boxplot(data=new_cnn38_results[:2]) # plot validation scores vs test scores\n",
    "sns.despine()\n"
   ]
  },
  {
   "cell_type": "code",
   "execution_count": 15,
   "metadata": {},
   "outputs": [
    {
     "data": {
      "image/png": "[encoded data removed]",
      "text/plain": [
       "<matplotlib.figure.Figure at 0x7fa3e5be6a90>"
      ]
     },
     "metadata": {},
     "output_type": "display_data"
    }
   ],
   "source": [
    "import seaborn as sns\n",
    "import matplotlib.pyplot as plt\n",
    "plt.figure(figsize=(3, 5))\n",
    "sns.boxplot(data=cnn38_results[:2]) # plot validation scores vs test scores\n",
    "sns.despine()\n"
   ]
  },
  {
   "cell_type": "code",
   "execution_count": 273,
   "metadata": {},
   "outputs": [
    {
     "data": {
      "text/plain": [
       "([0.65230484183299531,\n",
       "  0.61445868907343626,\n",
       "  0.64749130007044486,\n",
       "  0.64700745128400872,\n",
       "  0.63104311661558865,\n",
       "  0.63832404137578791,\n",
       "  0.61340385343030868],\n",
       " [0.6268950518547417,\n",
       "  0.61607325228121712,\n",
       "  0.60093018246545093,\n",
       "  0.64474238583741383,\n",
       "  0.62358489116443239,\n",
       "  0.61967470257538948,\n",
       "  0.64217883637197126])"
      ]
     },
     "execution_count": 273,
     "metadata": {},
     "output_type": "execute_result"
    }
   ],
   "source": [
    "cnn38_results[:2] # validation scores against test scores. 0.62 is realistic.."
   ]
  },
  {
   "cell_type": "code",
   "execution_count": 19,
   "metadata": {},
   "outputs": [],
   "source": [
    "L = normalized_features.shape[0]\n",
    "indices = np.random.permutation(L)\n",
    "num_folds = 5\n",
    "folds = [np.array([j in indices[(L//5)*i:(L//5)*(i+1)] for j in range(L)]) for i in range(num_folds)]"
   ]
  },
  {
   "cell_type": "code",
   "execution_count": null,
   "metadata": {},
   "outputs": [
    {
     "name": "stderr",
     "output_type": "stream",
     "text": [
      "/home/giali/anaconda3/lib/python3.6/site-packages/numpy/lib/function_base.py:3003: RuntimeWarning: invalid value encountered in true_divide\n",
      "  c /= stddev[:, None]\n",
      "/home/giali/anaconda3/lib/python3.6/site-packages/numpy/lib/function_base.py:3004: RuntimeWarning: invalid value encountered in true_divide\n",
      "  c /= stddev[None, :]\n",
      "/home/giali/anaconda3/lib/python3.6/site-packages/scipy/stats/_distn_infrastructure.py:879: RuntimeWarning: invalid value encountered in greater\n",
      "  return (self.a < x) & (x < self.b)\n",
      "/home/giali/anaconda3/lib/python3.6/site-packages/scipy/stats/_distn_infrastructure.py:879: RuntimeWarning: invalid value encountered in less\n",
      "  return (self.a < x) & (x < self.b)\n",
      "/home/giali/anaconda3/lib/python3.6/site-packages/scipy/stats/_distn_infrastructure.py:1821: RuntimeWarning: invalid value encountered in less_equal\n",
      "  cond2 = cond0 & (x <= self.a)\n"
     ]
    },
    {
     "ename": "UnboundLocalError",
     "evalue": "local variable 'best_model' referenced before assignment",
     "output_type": "error",
     "traceback": [
      "\u001b[0;31m---------------------------------------------------------------------------\u001b[0m",
      "\u001b[0;31mUnboundLocalError\u001b[0m                         Traceback (most recent call last)",
      "\u001b[0;32m<ipython-input-222-129cd4228742>\u001b[0m in \u001b[0;36m<module>\u001b[0;34m()\u001b[0m\n\u001b[1;32m      1\u001b[0m \u001b[0mcv_spearmans1\u001b[0m \u001b[0;34m=\u001b[0m \u001b[0mcv_train_test\u001b[0m\u001b[0;34m(\u001b[0m\u001b[0mgenes\u001b[0m\u001b[0;34m,\u001b[0m \u001b[0mnormalized_features\u001b[0m\u001b[0;34m[\u001b[0m\u001b[0;34m:\u001b[0m\u001b[0;34m,\u001b[0m \u001b[0morder1_features\u001b[0m\u001b[0;34m]\u001b[0m\u001b[0;34m,\u001b[0m \u001b[0my\u001b[0m\u001b[0;34m,\u001b[0m \u001b[0mCNN38ThreeOutput\u001b[0m\u001b[0;34m,\u001b[0m \u001b[0;36m0.0003\u001b[0m\u001b[0;34m,\u001b[0m \u001b[0;36m15000\u001b[0m\u001b[0;34m,\u001b[0m \u001b[0mfolds\u001b[0m\u001b[0;34m=\u001b[0m\u001b[0mfolds\u001b[0m\u001b[0;34m)\u001b[0m\u001b[0;34m\u001b[0m\u001b[0m\n\u001b[1;32m      2\u001b[0m \u001b[0mcv_spearmans2\u001b[0m \u001b[0;34m=\u001b[0m \u001b[0mcv_train_test\u001b[0m\u001b[0;34m(\u001b[0m\u001b[0mgenes\u001b[0m\u001b[0;34m,\u001b[0m \u001b[0mnormalized_features\u001b[0m\u001b[0;34m[\u001b[0m\u001b[0;34m:\u001b[0m\u001b[0;34m,\u001b[0m \u001b[0morder1_features\u001b[0m\u001b[0;34m]\u001b[0m\u001b[0;34m,\u001b[0m \u001b[0my\u001b[0m\u001b[0;34m,\u001b[0m \u001b[0mCNN38ThreeOutput\u001b[0m\u001b[0;34m,\u001b[0m \u001b[0;36m0.0003\u001b[0m\u001b[0;34m,\u001b[0m \u001b[0;36m15000\u001b[0m\u001b[0;34m,\u001b[0m \u001b[0mfolds\u001b[0m\u001b[0;34m=\u001b[0m\u001b[0mfolds\u001b[0m\u001b[0;34m)\u001b[0m\u001b[0;34m\u001b[0m\u001b[0m\n\u001b[0;32m----> 3\u001b[0;31m \u001b[0mcv_spearmans3\u001b[0m \u001b[0;34m=\u001b[0m \u001b[0mcv_train_test\u001b[0m\u001b[0;34m(\u001b[0m\u001b[0mgenes\u001b[0m\u001b[0;34m,\u001b[0m \u001b[0mnormalized_features\u001b[0m\u001b[0;34m[\u001b[0m\u001b[0;34m:\u001b[0m\u001b[0;34m,\u001b[0m \u001b[0morder1_features\u001b[0m\u001b[0;34m]\u001b[0m\u001b[0;34m,\u001b[0m \u001b[0my\u001b[0m\u001b[0;34m,\u001b[0m \u001b[0mCNN38ThreeOutput\u001b[0m\u001b[0;34m,\u001b[0m \u001b[0;36m0.0003\u001b[0m\u001b[0;34m,\u001b[0m \u001b[0;36m15000\u001b[0m\u001b[0;34m,\u001b[0m \u001b[0mfolds\u001b[0m\u001b[0;34m=\u001b[0m\u001b[0mfolds\u001b[0m\u001b[0;34m)\u001b[0m\u001b[0;34m\u001b[0m\u001b[0m\n\u001b[0m\u001b[1;32m      4\u001b[0m \u001b[0mcv_spearmans4\u001b[0m \u001b[0;34m=\u001b[0m \u001b[0mcv_train_test\u001b[0m\u001b[0;34m(\u001b[0m\u001b[0mgenes\u001b[0m\u001b[0;34m,\u001b[0m \u001b[0mnormalized_features\u001b[0m\u001b[0;34m[\u001b[0m\u001b[0;34m:\u001b[0m\u001b[0;34m,\u001b[0m \u001b[0morder1_features\u001b[0m\u001b[0;34m]\u001b[0m\u001b[0;34m,\u001b[0m \u001b[0my\u001b[0m\u001b[0;34m,\u001b[0m \u001b[0mCNN38ThreeOutput\u001b[0m\u001b[0;34m,\u001b[0m \u001b[0;36m0.0003\u001b[0m\u001b[0;34m,\u001b[0m \u001b[0;36m15000\u001b[0m\u001b[0;34m,\u001b[0m \u001b[0mfolds\u001b[0m\u001b[0;34m=\u001b[0m\u001b[0mfolds\u001b[0m\u001b[0;34m)\u001b[0m\u001b[0;34m\u001b[0m\u001b[0m\n",
      "\u001b[0;32m~/pavooc/pavooc/scoring/training.py\u001b[0m in \u001b[0;36mcv_train_test\u001b[0;34m(genes, transformed_features, y, model_class, learning_rate, epochs, loss, folds)\u001b[0m\n\u001b[1;32m    239\u001b[0m         losses, spearmans, model = train_predict(\n\u001b[1;32m    240\u001b[0m             \u001b[0mtransformed_features\u001b[0m\u001b[0;34m,\u001b[0m \u001b[0my\u001b[0m\u001b[0;34m,\u001b[0m \u001b[0mvalidation_fold\u001b[0m\u001b[0;34m,\u001b[0m \u001b[0mmodel_class\u001b[0m\u001b[0;34m,\u001b[0m\u001b[0;34m\u001b[0m\u001b[0m\n\u001b[0;32m--> 241\u001b[0;31m             learning_rate, loss, epochs, tensorboard_experiment)\n\u001b[0m\u001b[1;32m    242\u001b[0m         \u001b[0;31m# print('Trained on fold {}/{}. Test gene: {}. Spearman: {}'\u001b[0m\u001b[0;34m\u001b[0m\u001b[0;34m\u001b[0m\u001b[0m\n\u001b[1;32m    243\u001b[0m         \u001b[0;31m# .format(i, len(target_genes), gene, spearman))\u001b[0m\u001b[0;34m\u001b[0m\u001b[0;34m\u001b[0m\u001b[0m\n",
      "\u001b[0;32m~/pavooc/pavooc/scoring/training.py\u001b[0m in \u001b[0;36mtrain_predict\u001b[0;34m(combined_features, y, validation_fold, model_class, learning_rate, loss, epochs, tensorboard_experiment)\u001b[0m\n\u001b[1;32m    203\u001b[0m                 \u001b[0mbest_model\u001b[0m\u001b[0;34m.\u001b[0m\u001b[0mload_state_dict\u001b[0m\u001b[0;34m(\u001b[0m\u001b[0mcopy\u001b[0m\u001b[0;34m.\u001b[0m\u001b[0mdeepcopy\u001b[0m\u001b[0;34m(\u001b[0m\u001b[0mmodel\u001b[0m\u001b[0;34m.\u001b[0m\u001b[0mstate_dict\u001b[0m\u001b[0;34m(\u001b[0m\u001b[0;34m)\u001b[0m\u001b[0;34m)\u001b[0m\u001b[0;34m)\u001b[0m\u001b[0;34m\u001b[0m\u001b[0m\n\u001b[1;32m    204\u001b[0m \u001b[0;34m\u001b[0m\u001b[0m\n\u001b[0;32m--> 205\u001b[0;31m     \u001b[0mbest_model\u001b[0m\u001b[0;34m.\u001b[0m\u001b[0meval\u001b[0m\u001b[0;34m(\u001b[0m\u001b[0;34m)\u001b[0m\u001b[0;34m\u001b[0m\u001b[0m\n\u001b[0m\u001b[1;32m    206\u001b[0m     \u001b[0;32mreturn\u001b[0m \u001b[0mlosses\u001b[0m\u001b[0;34m,\u001b[0m \u001b[0mspearmans\u001b[0m\u001b[0;34m,\u001b[0m \u001b[0mbest_model\u001b[0m\u001b[0;34m\u001b[0m\u001b[0m\n\u001b[1;32m    207\u001b[0m \u001b[0;34m\u001b[0m\u001b[0m\n",
      "\u001b[0;31mUnboundLocalError\u001b[0m: local variable 'best_model' referenced before assignment"
     ]
    }
   ],
   "source": [
    "cv_spearmans1 = cv_train_test(genes, normalized_features[:, order1_features], y, CNN38ThreeOutput, 0.0003, 15000, folds=folds)\n",
    "cv_spearmans2 = cv_train_test(genes, normalized_features[:, order1_features], y, CNN38ThreeOutput, 0.0003, 15000, folds=folds)\n",
    "cv_spearmans3 = cv_train_test(genes, normalized_features[:, order1_features], y, CNN38ThreeOutput, 0.0003, 15000, folds=folds)\n",
    "cv_spearmans4 = cv_train_test(genes, normalized_features[:, order1_features], y, CNN38ThreeOutput, 0.0003, 15000, folds=folds)\n"
   ]
  },
  {
   "cell_type": "code",
   "execution_count": 183,
   "metadata": {},
   "outputs": [
    {
     "data": {
      "text/plain": [
       "<matplotlib.axes._subplots.AxesSubplot at 0x7fa3846ddba8>"
      ]
     },
     "execution_count": 183,
     "metadata": {},
     "output_type": "execute_result"
    },
    {
     "data": {
      "image/png": "[encoded data removed]",
      "text/plain": [
       "<matplotlib.figure.Figure at 0x7fa35c77d438>"
      ]
     },
     "metadata": {},
     "output_type": "display_data"
    }
   ],
   "source": [
    "sns.boxplot(data=[cv_spearmans1, cv_spearmans2, cv_spearmans3, cv_spearmans4])"
   ]
  },
  {
   "cell_type": "code",
   "execution_count": 271,
   "metadata": {},
   "outputs": [
    {
     "data": {
      "text/plain": [
       "[[0.66920040574650641,\n",
       "  0.68529927893892739,\n",
       "  0.68474951581807098,\n",
       "  0.69703600200378135,\n",
       "  0.71304586917204993],\n",
       " [0.66903768545966347,\n",
       "  0.68206029774039079,\n",
       "  0.67818732161894946,\n",
       "  0.68982041947535166,\n",
       "  0.72334489245317124],\n",
       " [0.67434803657727482,\n",
       "  0.68240897928722721,\n",
       "  0.6912733721249007,\n",
       "  0.70404194210553184,\n",
       "  0.73168843329500566],\n",
       " [0.67195702439707561,\n",
       "  0.68484536165909282,\n",
       "  0.6935326052878672,\n",
       "  0.71147790623366858,\n",
       "  0.73437727228820748]]"
      ]
     },
     "execution_count": 271,
     "metadata": {},
     "output_type": "execute_result"
    }
   ],
   "source": [
    "[cv_spearmans1, cv_spearmans2, cv_spearmans3, cv_spearmans4]"
   ]
  },
  {
   "cell_type": "code",
   "execution_count": 272,
   "metadata": {},
   "outputs": [
    {
     "data": {
      "text/plain": [
       "[0.67484413659638365,\n",
       " 0.67871418020466001,\n",
       " 0.68338228303244619,\n",
       " 0.68867827744571475,\n",
       " 0.72251520480650078]"
      ]
     },
     "execution_count": 272,
     "metadata": {},
     "output_type": "execute_result"
    }
   ],
   "source": [
    "new_cnn38_three_output_wo_conv"
   ]
  },
  {
   "cell_type": "code",
   "execution_count": 154,
   "metadata": {},
   "outputs": [],
   "source": [
    "cv_spearmans_different_folds_old = cv_spearmans_different_folds"
   ]
  },
  {
   "cell_type": "code",
   "execution_count": null,
   "metadata": {},
   "outputs": [],
   "source": [
    "cv_spearmans_different_folds = []\n",
    "for i in range(4):\n",
    "    L = normalized_features.shape[0]\n",
    "    indices = np.random.permutation(L)\n",
    "    num_folds = 5\n",
    "    diff_folds = [np.array([j in indices[(L//5)*i:(L//5)*(i+1)] for j in range(L)]) for i in range(num_folds)]\n",
    "    \n",
    "    cv_spearmans_different_folds.append(cv_train_test(genes, normalized_features[:, order1_features], y, CNN38ThreeOutput, 0.0003, 15006 + i, folds=diff_folds))"
   ]
  },
  {
   "cell_type": "code",
   "execution_count": 269,
   "metadata": {},
   "outputs": [
    {
     "data": {
      "text/plain": [
       "[[0.67832291815206247,\n",
       "  0.68718322928573461,\n",
       "  0.65971349400976298,\n",
       "  0.69910848120234126,\n",
       "  0.71849464182506251],\n",
       " [0.70090018649410446,\n",
       "  0.70132048824092041,\n",
       "  0.71926775383333108,\n",
       "  0.69785942113023802,\n",
       "  0.68719640026774564],\n",
       " [0.67700583201354214,\n",
       "  0.67794561306045675,\n",
       "  0.68860324893318259,\n",
       "  0.70296057710380433,\n",
       "  0.69984678724170113],\n",
       " [0.6739727981345649,\n",
       "  0.6933583000363398,\n",
       "  0.69181362348793018,\n",
       "  0.70041536393417669,\n",
       "  0.68790494567272198]]"
      ]
     },
     "execution_count": 269,
     "metadata": {},
     "output_type": "execute_result"
    }
   ],
   "source": [
    "cv_spearmans_different_folds"
   ]
  },
  {
   "cell_type": "code",
   "execution_count": 226,
   "metadata": {},
   "outputs": [
    {
     "data": {
      "image/png": "[encoded data removed]",
      "text/plain": [
       "<matplotlib.figure.Figure at 0x7fa370270518>"
      ]
     },
     "metadata": {},
     "output_type": "display_data"
    }
   ],
   "source": [
    "fig, (ax1, ax2) = plt.subplots(1, 2, sharey=True)\n",
    "\n",
    "sns.boxplot(data=[cv_spearmans1, cv_spearmans2, cv_spearmans3, cv_spearmans4], ax=ax1)\n",
    "\n",
    "ax1.set_ylabel('Spearman correlation')\n",
    "ax1.set_xlabel('CV runs with same folds')\n",
    "plt.savefig('figures/cnn38_cv_same_folds.png')\n",
    "\n",
    "\n",
    "sns.boxplot(data=cv_spearmans_different_folds, ax=ax2)\n",
    "ax2.set_xlabel('CV runs with different folds')\n",
    "\n",
    "sns.despine()\n",
    "fig.savefig('figures/cnn38_cv_same_different_folds.png')"
   ]
  },
  {
   "cell_type": "code",
   "execution_count": 187,
   "metadata": {},
   "outputs": [
    {
     "data": {
      "image/png": "[encoded data removed]",
      "text/plain": [
       "<matplotlib.figure.Figure at 0x7fa3703d1c50>"
      ]
     },
     "metadata": {},
     "output_type": "display_data"
    }
   ],
   "source": [
    "fig, (ax1, ax2) = plt.subplots(1, 2, sharey=True)\n",
    "\n",
    "sns.boxplot(data=[cv_spearmans1, cv_spearmans2, cv_spearmans3, cv_spearmans4], ax=ax1)\n",
    "\n",
    "ax1.set_ylabel('Spearman correlation')\n",
    "ax1.set_xlabel('CV runs with same folds')\n",
    "plt.savefig('figures/cnn38_cv_same_folds.png')\n",
    "\n",
    "\n",
    "sns.boxplot(data=cv_spearmans_different_folds, ax=ax2)\n",
    "ax2.set_xlabel('CV runs with different folds')\n",
    "\n",
    "sns.despine()\n",
    "fig.savefig('figures/cnn38_cv_same_different_folds.png')"
   ]
  },
  {
   "cell_type": "code",
   "execution_count": 32,
   "metadata": {},
   "outputs": [],
   "source": [
    "from pavooc.scoring.models import weights_init \n",
    "from torch import nn\n",
    "import torch\n",
    "from torch.nn.init import kaiming_normal, normal\n",
    "import torch.nn.functional as F\n",
    "\n",
    "class CNN38OneConv(nn.Module):\n",
    "    def __init__(self, input_size):\n",
    "        super(CNN38OneConv, self).__init__()\n",
    "\n",
    "        self.conv1 = nn.Conv1d(\n",
    "            in_channels=4, out_channels=128, kernel_size=4, stride=1)\n",
    "\n",
    "        # 128 kernels, 30-3 => 27/2 => 13-3 => 10/2 => 5\n",
    "        self._conv_output_dimension = 128 * 9\n",
    "\n",
    "        # hidden layers, additional_features, conv output\n",
    "\n",
    "        self.pre_fc = nn.Linear(input_size, 256)\n",
    "        self.fc1 = nn.Linear(256 + self._conv_output_dimension, 32)\n",
    "        self.fc2 = nn.Linear(32, 1)\n",
    "\n",
    "        self.apply(weights_init)\n",
    "\n",
    "    def _forward_convolution(self, nuc_features):\n",
    "\n",
    "        conv_input = nuc_features.view(-1, 30, 4).permute(0, 2, 1)\n",
    "\n",
    "        conv1_output = F.relu(self.conv1(conv_input))\n",
    "        conv1_output = F.dropout(conv1_output, 0.4, self.training)\n",
    "\n",
    "\n",
    "        conv1_output = F.max_pool1d(conv1_output, 3)\n",
    "        return conv1_output.view(-1, self._conv_output_dimension)\n",
    "\n",
    "    def forward(self, x):\n",
    "        nuc_features = x[:, :120]\n",
    "        nuc_features.contiguous()\n",
    "\n",
    "        convolution_output = self._forward_convolution(nuc_features)\n",
    "        # two fully connected hidden layers\n",
    "\n",
    "        pre_output = self.pre_fc(x)\n",
    "        pre_output = F.dropout(pre_output, 0.55, self.training)\n",
    "\n",
    "        out = F.relu(self.fc1(torch.cat(\n",
    "            [pre_output, convolution_output], 1)))\n",
    "\n",
    "        out = F.dropout(out, 0.55, self.training)\n",
    "\n",
    "\n",
    "        return self.fc2(out)\n",
    "one_conv_results = cv_train_test(genes, normalized_features[:, order1_features], y, CNN38OneConv, 0.0003, 15001, folds=folds)"
   ]
  },
  {
   "cell_type": "code",
   "execution_count": 268,
   "metadata": {},
   "outputs": [
    {
     "data": {
      "text/plain": [
       "[0.66174671914079108,\n",
       " 0.68424951934589817,\n",
       " 0.64784226517384746,\n",
       " 0.66450566115001608,\n",
       " 0.68221324542003325]"
      ]
     },
     "execution_count": 268,
     "metadata": {},
     "output_type": "execute_result"
    }
   ],
   "source": [
    "one_conv_results\n"
   ]
  },
  {
   "cell_type": "code",
   "execution_count": null,
   "metadata": {},
   "outputs": [],
   "source": [
    "class CNN38ThreeConv(nn.Module):\n",
    "    def __init__(self, input_size):\n",
    "        super(CNN38ThreeConv, self).__init__()\n",
    "\n",
    "        self.conv1 = nn.Conv1d(\n",
    "            in_channels=4, out_channels=128, kernel_size=4, stride=1)  # boost this?\n",
    "        self.conv2 = nn.Conv1d(\n",
    "            in_channels=128, out_channels=256, kernel_size=2)\n",
    "        self.conv3 = nn.Conv1d(\n",
    "            in_channels=256, out_channels=512, kernel_size=3)\n",
    "        \n",
    "        # 128 kernels, 30-3 => 27/2 => 13-3 => 10/2 => 5\n",
    "        self._conv_output_dimension = 512 * 2\n",
    "\n",
    "        # hidden layers, additional_features, conv output\n",
    "\n",
    "        self.pre_fc = nn.Linear(input_size, 256)\n",
    "        self.fc1 = nn.Linear(256 + self._conv_output_dimension, 32)\n",
    "        self.fc2 = nn.Linear(32, 1)\n",
    "\n",
    "        self.apply(weights_init)\n",
    "\n",
    "    def _forward_convolution(self, nuc_features):\n",
    "\n",
    "        conv_input = nuc_features.view(-1, 30, 4).permute(0, 2, 1)\n",
    "\n",
    "        conv1_output = F.relu(self.conv1(conv_input))\n",
    "        conv1_output = F.dropout(conv1_output, 0.4, self.training)\n",
    "\n",
    "\n",
    "        conv1_output = F.max_pool1d(conv1_output, 2)\n",
    "        conv2_output = F.relu(self.conv2(conv1_output))\n",
    "        conv2_output = F.dropout(conv2_output, 0.5, self.training)\n",
    "        conv2_output = F.max_pool1d(conv2_output, 2)\n",
    "        \n",
    "        conv3_output = F.relu(self.conv3(conv2_output))\n",
    "        conv3_output = F.dropout(conv3_output, 0.5, self.training)\n",
    "        conv3_output = F.max_pool1d(conv3_output, 2)\n",
    "        return conv3_output.view(-1, self._conv_output_dimension)\n",
    "\n",
    "    def forward(self, x):\n",
    "        nuc_features = x[:, :120]\n",
    "        nuc_features.contiguous()\n",
    "\n",
    "        convolution_output = self._forward_convolution(nuc_features)\n",
    "        # two fully connected hidden layers\n",
    "\n",
    "        pre_output = self.pre_fc(x)\n",
    "        pre_output = F.dropout(pre_output, 0.55, self.training)\n",
    "\n",
    "        out = F.relu(self.fc1(torch.cat(\n",
    "            [pre_output, convolution_output], 1)))\n",
    "\n",
    "        out = F.dropout(out, 0.55, self.training)\n",
    "\n",
    "        return self.fc2(out)\n",
    "three_conv_results = cv_train_test(genes, normalized_features[:, order1_features], y, CNN38ThreeConv, 0.0003, 15001, folds=folds)\n"
   ]
  },
  {
   "cell_type": "code",
   "execution_count": 267,
   "metadata": {},
   "outputs": [
    {
     "data": {
      "text/plain": [
       "[0.68666108802791237,\n",
       " 0.70188352416888733,\n",
       " 0.65551494647987696,\n",
       " 0.68076562599838009,\n",
       " 0.69134121947247351]"
      ]
     },
     "execution_count": 267,
     "metadata": {},
     "output_type": "execute_result"
    }
   ],
   "source": [
    "three_conv_results"
   ]
  },
  {
   "cell_type": "code",
   "execution_count": null,
   "metadata": {},
   "outputs": [],
   "source": [
    "# run 5 \"standard\" randomized runs. they should perform worse than the cv_train_test. and why?\n",
    "# TODO rerun!\n",
    "rand_shuffle_results = train_predict_n_shuffles(CNN38, \n",
    "                                                normalized_features,\n",
    "                                                order1_features,\n",
    "                                                y,\n",
    "                                                10,\n",
    "                                                0.0003,\n",
    "                                                15000)\n",
    "\n",
    "# could combine with cnn38_results (7 more runs...). just compare the two to see they are similar"
   ]
  },
  {
   "cell_type": "code",
   "execution_count": null,
   "metadata": {},
   "outputs": [],
   "source": [
    "# TODO azimuth 10 random runs with validation and test\n",
    "from pavooc.scoring.adaboost import train_predict_adaboost\n",
    "adaboost_results = train_predict_adaboost(normalized_features, order2_features,  y, num_runs=10)"
   ]
  },
  {
   "cell_type": "code",
   "execution_count": 189,
   "metadata": {},
   "outputs": [
    {
     "ename": "NameError",
     "evalue": "name 'azimuth_tests' is not defined",
     "output_type": "error",
     "traceback": [
      "\u001b[0;31m---------------------------------------------------------------------------\u001b[0m",
      "\u001b[0;31mNameError\u001b[0m                                 Traceback (most recent call last)",
      "\u001b[0;32m<ipython-input-189-01a0b15b7ba0>\u001b[0m in \u001b[0;36m<module>\u001b[0;34m()\u001b[0m\n\u001b[0;32m----> 1\u001b[0;31m \u001b[0msns\u001b[0m\u001b[0;34m.\u001b[0m\u001b[0mbarplot\u001b[0m\u001b[0;34m(\u001b[0m\u001b[0mdata\u001b[0m\u001b[0;34m=\u001b[0m\u001b[0;34m[\u001b[0m\u001b[0mazimuth_tests\u001b[0m\u001b[0;34m,\u001b[0m \u001b[0mmy_validations\u001b[0m\u001b[0;34m,\u001b[0m \u001b[0mmy_tests\u001b[0m\u001b[0;34m]\u001b[0m\u001b[0;34m)\u001b[0m  \u001b[0;31m# TODO group the bars together..\u001b[0m\u001b[0;34m\u001b[0m\u001b[0m\n\u001b[0m\u001b[1;32m      2\u001b[0m \u001b[0msns\u001b[0m\u001b[0;34m.\u001b[0m\u001b[0mdespine\u001b[0m\u001b[0;34m(\u001b[0m\u001b[0;34m)\u001b[0m\u001b[0;34m\u001b[0m\u001b[0m\n\u001b[1;32m      3\u001b[0m \u001b[0mplt\u001b[0m\u001b[0;34m.\u001b[0m\u001b[0msavefig\u001b[0m\u001b[0;34m(\u001b[0m\u001b[0;34m'train_test_comparison.png'\u001b[0m\u001b[0;34m)\u001b[0m\u001b[0;34m\u001b[0m\u001b[0m\n",
      "\u001b[0;31mNameError\u001b[0m: name 'azimuth_tests' is not defined"
     ]
    }
   ],
   "source": [
    "sns.barplot(data=[azimuth_tests, my_validations, my_tests])  # TODO group the bars together..\n",
    "sns.despine()\n",
    "plt.savefig('train_test_comparison.png')"
   ]
  },
  {
   "cell_type": "code",
   "execution_count": null,
   "metadata": {},
   "outputs": [],
   "source": [
    "# run gene cv..\n",
    "gene_cv_results = cv_train_test(genes, normalized_features[:, order1_features], y, CNN38ThreeOutput, 0.0003, 15003)\n"
   ]
  },
  {
   "cell_type": "code",
   "execution_count": 276,
   "metadata": {},
   "outputs": [
    {
     "data": {
      "text/plain": [
       "[0.66088393516402366,\n",
       " 0.63363049880858857,\n",
       " 0.55256729873334842,\n",
       " 0.58568693749689238,\n",
       " 0.57192151055164742,\n",
       " 0.63046229775978591,\n",
       " 0.59348020044524352,\n",
       " 0.55483878324221514,\n",
       " 0.5401754750187554,\n",
       " 0.45668782876836572,\n",
       " 0.4662632512758017,\n",
       " 0.5319210746289168,\n",
       " 0.57179130757112406,\n",
       " 0.65924908424908424,\n",
       " 0.51208466783712281,\n",
       " 0.43601654074361196,\n",
       " 0.42120760254168327]"
      ]
     },
     "execution_count": 276,
     "metadata": {},
     "output_type": "execute_result"
    }
   ],
   "source": [
    "gene_cv_results"
   ]
  },
  {
   "cell_type": "code",
   "execution_count": 236,
   "metadata": {},
   "outputs": [
    {
     "data": {
      "text/plain": [
       "0.55483878324221514"
      ]
     },
     "execution_count": 236,
     "metadata": {},
     "output_type": "execute_result"
    }
   ],
   "source": [
    "np.median(gene_cv_results)"
   ]
  },
  {
   "cell_type": "code",
   "execution_count": 255,
   "metadata": {},
   "outputs": [],
   "source": [
    "# train_predict_n_shuffles performs a lot worse than cv_train_predict. The (only) difference is the number of training samples: \n",
    "# While cv_train_predict uses cross validation and can train on 4000 samples for 5 folds, train_predict_n_shuffles uses both a separate validation and test set\n",
    "# this lowers the number of training samples to 3000. Here I verify, that the model performs significantly worse with 3000 training samples only!\n",
    "\n",
    "# first parameter is unnecessary when not running gene-cv\n",
    "cv_results_3000 = []\n",
    "for i in range(4):\n",
    "    L = 4000    \n",
    "    indices5000 = np.random.permutation(normalized_features.shape[0])[:L]\n",
    "    indices = np.random.permutation(L)\n",
    "    num_folds = 4\n",
    "    folds_4000 = [np.array([j in indices[(L//num_folds)*i:(L//num_folds)*(i+1)] for j in range(L)]) for i in range(num_folds)]\n",
    "\n",
    "    cv_results_3000.append(cv_train_test(pd.Series([]), normalized_features[indices5000.reshape([-1, 1]), order1_features], y[indices5000], CNN38ThreeOutput, 0.0003, 15005, folds=folds_4000))"
   ]
  },
  {
   "cell_type": "code",
   "execution_count": 266,
   "metadata": {},
   "outputs": [
    {
     "data": {
      "text/plain": [
       "[[0.61468879912581287,\n",
       "  0.64243973979097391,\n",
       "  0.66791851097287402,\n",
       "  0.63880063318685443],\n",
       " [0.61159737003391035,\n",
       "  0.67535353121949115,\n",
       "  0.63880128773680822,\n",
       "  0.69325398363305302],\n",
       " [0.62504748841458857,\n",
       "  0.66087102603815007,\n",
       "  0.64801293043361896,\n",
       "  0.61546255991194931],\n",
       " [0.64428576494776069,\n",
       "  0.64516132942052629,\n",
       "  0.59467782602075436,\n",
       "  0.64669403059891239]]"
      ]
     },
     "execution_count": 266,
     "metadata": {},
     "output_type": "execute_result"
    }
   ],
   "source": [
    "cv_results_3000"
   ]
  },
  {
   "cell_type": "code",
   "execution_count": 259,
   "metadata": {},
   "outputs": [
    {
     "data": {
      "image/png": "[encoded data removed]",
      "text/plain": [
       "<matplotlib.figure.Figure at 0x7fa34462bb38>"
      ]
     },
     "metadata": {},
     "output_type": "display_data"
    }
   ],
   "source": [
    "sns.boxplot(data=cv_results_3000)\n",
    "sns.despine()\n",
    "plt.savefig('figures/cnn38_4000_cv.png')"
   ]
  },
  {
   "cell_type": "code",
   "execution_count": 132,
   "metadata": {},
   "outputs": [],
   "source": [
    "class CNN38ConvSizes(nn.Module):  # TODO swap names with CNN38\n",
    "    def __init__(self, input_size):\n",
    "        super(CNN38ConvSizes, self).__init__()\n",
    "\n",
    "        self.conv1 = nn.Conv1d(\n",
    "            in_channels=4, out_channels=256, kernel_size=7, stride=1)  # boost this?\n",
    "        self.conv2 = nn.Conv1d(\n",
    "            in_channels=256, out_channels=1024, kernel_size=3)\n",
    "        \n",
    "        # 128 kernels, 30-3 => 27/2 => 13-3 => 10/2 => 5\n",
    "        self._conv_output_dimension = 1024 * 2\n",
    "\n",
    "        # hidden layers, additional_features, conv output\n",
    "\n",
    "        self.pre_fc = nn.Linear(input_size, 256)\n",
    "        self.fc1 = nn.Linear(256 + self._conv_output_dimension, 32)\n",
    "        self.fc2 = nn.Linear(32, 1)\n",
    "\n",
    "        self.apply(weights_init)\n",
    "\n",
    "    def _forward_convolution(self, nuc_features):\n",
    "\n",
    "        conv_input = nuc_features.view(-1, 30, 4).permute(0, 2, 1)\n",
    "\n",
    "        conv1_output = F.relu(self.conv1(conv_input))\n",
    "        conv1_output = F.dropout(conv1_output, 0.4, self.training)\n",
    "\n",
    "\n",
    "        conv1_output = F.max_pool1d(conv1_output, 3)\n",
    "        conv2_output = F.relu(self.conv2(conv1_output))\n",
    "        conv2_output = F.dropout(conv2_output, 0.5, self.training)\n",
    "        conv2_output = F.max_pool1d(conv2_output, 3)\n",
    "        \n",
    "\n",
    "        return conv2_output.view(-1, self._conv_output_dimension)\n",
    "\n",
    "    def forward(self, x):\n",
    "        nuc_features = x[:, :120]\n",
    "        nuc_features.contiguous()\n",
    "\n",
    "        convolution_output = self._forward_convolution(nuc_features)\n",
    "        # two fully connected hidden layers\n",
    "\n",
    "        pre_output = self.pre_fc(x)\n",
    "        pre_output = F.dropout(pre_output, 0.55, self.training)\n",
    "\n",
    "        out = F.relu(self.fc1(torch.cat(\n",
    "            [pre_output, convolution_output], 1)))\n",
    "\n",
    "        out = F.dropout(out, 0.55, self.training)\n",
    "\n",
    "        return self.fc2(out)\n"
   ]
  },
  {
   "cell_type": "code",
   "execution_count": null,
   "metadata": {},
   "outputs": [],
   "source": [
    "sizes_conv_results = cv_train_test(genes, normalized_features[:, order1_features], y, CNN38ConvSizes, 0.0003, 15002, folds=folds)"
   ]
  },
  {
   "cell_type": "code",
   "execution_count": 190,
   "metadata": {},
   "outputs": [
    {
     "data": {
      "text/plain": [
       "[0.67306788506340243,\n",
       " 0.67820428630812268,\n",
       " 0.68452475472631436,\n",
       " 0.70844064069131729,\n",
       " 0.72691381636930841]"
      ]
     },
     "execution_count": 190,
     "metadata": {},
     "output_type": "execute_result"
    }
   ],
   "source": [
    "sizes_conv_results"
   ]
  },
  {
   "cell_type": "code",
   "execution_count": null,
   "metadata": {},
   "outputs": [],
   "source": [
    "class CNN38NoPreproc(nn.Module):\n",
    "    def __init__(self, input_size):\n",
    "        super(CNN38NoPreproc, self).__init__()\n",
    "\n",
    "        self.conv1 = nn.Conv1d(\n",
    "            in_channels=4, out_channels=256, kernel_size=7, stride=1)  # boost this?\n",
    "        self.conv2 = nn.Conv1d(\n",
    "            in_channels=256, out_channels=1024, kernel_size=3)\n",
    "\n",
    "        # 128 kernels, 30-3 => 27/2 => 13-3 => 10/2 => 5\n",
    "        self._conv_output_dimension = 1024 * 2\n",
    "\n",
    "        # hidden layers, additional_features, conv output\n",
    "        self.fc1 = nn.Linear(input_size + self._conv_output_dimension, 32)\n",
    "        self.fc2 = nn.Linear(32, 1)\n",
    "\n",
    "        self.apply(weights_init)\n",
    "\n",
    "    def _forward_convolution(self, nuc_features):\n",
    "\n",
    "        conv_input = nuc_features.view(-1, 30, 4).permute(0, 2, 1)\n",
    "\n",
    "        conv1_output = F.relu(self.conv1(conv_input))\n",
    "        conv1_output = F.dropout(conv1_output, 0.4, self.training)\n",
    "\n",
    "\n",
    "        conv1_output = F.max_pool1d(conv1_output, 3)\n",
    "        conv2_output = F.relu(self.conv2(conv1_output))\n",
    "        conv2_output = F.dropout(conv2_output, 0.5, self.training)\n",
    "        conv2_output = F.max_pool1d(conv2_output, 3)\n",
    "        return conv2_output.view(-1, self._conv_output_dimension)\n",
    "\n",
    "    def forward(self, x):\n",
    "        nuc_features = x[:, :120]\n",
    "        nuc_features.contiguous()\n",
    "\n",
    "        convolution_output = self._forward_convolution(nuc_features)\n",
    "        # two fully connected hidden layers\n",
    "\n",
    "\n",
    "        out = F.relu(self.fc1(torch.cat(\n",
    "            [x, convolution_output], 1)))\n",
    "\n",
    "        out = F.dropout(out, 0.55, self.training)\n",
    "\n",
    "        return self.fc2(out)"
   ]
  },
  {
   "cell_type": "code",
   "execution_count": null,
   "metadata": {},
   "outputs": [],
   "source": [
    "no_preproc_results = cv_train_test(genes, normalized_features[:, order1_features], y, CNN38NoPreproc, 0.0003, 15002, folds=folds)\n"
   ]
  },
  {
   "cell_type": "code",
   "execution_count": null,
   "metadata": {},
   "outputs": [],
   "source": [
    "no_preproc_results"
   ]
  },
  {
   "cell_type": "code",
   "execution_count": 212,
   "metadata": {},
   "outputs": [],
   "source": [
    "class CNN38ThreeOutputAverage(nn.Module):\n",
    "    def __init__(self, input_size):\n",
    "        super(CNN38ThreeOutputAverage, self).__init__()\n",
    "\n",
    "        self.conv1 = nn.Conv1d(\n",
    "            in_channels=4, out_channels=256, kernel_size=7, stride=1)  # boost this?\n",
    "        self.conv2 = nn.Conv1d(\n",
    "            in_channels=256, out_channels=1024, kernel_size=3)\n",
    "        \n",
    "\n",
    "        # 128 kernels, 30-3 => 27/2 => 13-3 => 10/2 => 5\n",
    "        self._conv_output_dimension = 1024 * 2\n",
    "\n",
    "        # hidden layers, additional_features, conv output\n",
    "\n",
    "        self.pre_fc = nn.Linear(input_size, 256)\n",
    "        self.fc1 = nn.Linear(256 + self._conv_output_dimension, 512)\n",
    "        self.fc2 = nn.Linear(512, 64)\n",
    "        self.fc3 = nn.Linear(64, 1)\n",
    "\n",
    "        self.apply(weights_init)\n",
    "\n",
    "    def _forward_convolution(self, nuc_features):\n",
    "\n",
    "        conv_input = nuc_features.view(-1, 30, 4).permute(0, 2, 1)\n",
    "\n",
    "        conv1_output = F.relu(self.conv1(conv_input))\n",
    "        conv1_output = F.dropout(conv1_output, 0.4, self.training)\n",
    "\n",
    "\n",
    "        conv1_output = F.avg_pool1d(conv1_output, 3)\n",
    "        conv2_output = F.relu(self.conv2(conv1_output))\n",
    "        conv2_output = F.dropout(conv2_output, 0.5, self.training)\n",
    "        conv2_output = F.avg_pool1d(conv2_output, 3)\n",
    "        return conv2_output.view(-1, self._conv_output_dimension)\n",
    "\n",
    "    def forward(self, x):\n",
    "        nuc_features = x[:, :120]\n",
    "        nuc_features.contiguous()\n",
    "\n",
    "        convolution_output = self._forward_convolution(nuc_features)\n",
    "        # two fully connected hidden layers\n",
    "\n",
    "        pre_output = self.pre_fc(x)\n",
    "        pre_output = F.dropout(pre_output, 0.55, self.training)\n",
    "\n",
    "        out = F.relu(self.fc1(torch.cat(\n",
    "            [pre_output, convolution_output], 1)))\n",
    "\n",
    "        out = F.dropout(out, 0.4, self.training)\n",
    "        \n",
    "        out = F.relu(self.fc2(out))\n",
    "        out = F.dropout(out, 0.55, self.training)\n",
    "\n",
    "        return self.fc3(out)"
   ]
  },
  {
   "cell_type": "code",
   "execution_count": null,
   "metadata": {},
   "outputs": [],
   "source": [
    "three_output_avg_results = cv_train_test(genes, normalized_features[:, order1_features], y, CNN38ThreeOutputAverage, 0.0003, 15010, folds=folds)"
   ]
  },
  {
   "cell_type": "code",
   "execution_count": 197,
   "metadata": {},
   "outputs": [],
   "source": [
    "class CNN38ThreeOutput(nn.Module):\n",
    "    def __init__(self, input_size):\n",
    "        super(CNN38ThreeOutput, self).__init__()\n",
    "\n",
    "        self.conv1 = nn.Conv1d(\n",
    "            in_channels=4, out_channels=256, kernel_size=7, stride=1)  # boost this?\n",
    "        self.conv2 = nn.Conv1d(\n",
    "            in_channels=256, out_channels=1024, kernel_size=3)\n",
    "        \n",
    "\n",
    "        # 128 kernels, 30-3 => 27/2 => 13-3 => 10/2 => 5\n",
    "        self._conv_output_dimension = 1024 * 2\n",
    "\n",
    "        # hidden layers, additional_features, conv output\n",
    "\n",
    "        self.pre_fc = nn.Linear(input_size, 256)\n",
    "        self.fc1 = nn.Linear(256 + self._conv_output_dimension, 512)\n",
    "        self.fc2 = nn.Linear(512, 64)\n",
    "        self.fc3 = nn.Linear(64, 1)\n",
    "\n",
    "        self.apply(weights_init)\n",
    "\n",
    "    def _forward_convolution(self, nuc_features):\n",
    "\n",
    "        conv_input = nuc_features.view(-1, 30, 4).permute(0, 2, 1)\n",
    "\n",
    "        conv1_output = F.relu(self.conv1(conv_input))\n",
    "        conv1_output = F.dropout(conv1_output, 0.4, self.training)\n",
    "\n",
    "\n",
    "        conv1_output = F.max_pool1d(conv1_output, 3)\n",
    "        conv2_output = F.relu(self.conv2(conv1_output))\n",
    "        conv2_output = F.dropout(conv2_output, 0.5, self.training)\n",
    "        conv2_output = F.max_pool1d(conv2_output, 3)\n",
    "        return conv2_output.view(-1, self._conv_output_dimension)\n",
    "\n",
    "    def forward(self, x):\n",
    "        nuc_features = x[:, :120]\n",
    "        nuc_features.contiguous()\n",
    "\n",
    "        convolution_output = self._forward_convolution(nuc_features)\n",
    "        # two fully connected hidden layers\n",
    "\n",
    "        pre_output = self.pre_fc(x)\n",
    "        pre_output = F.dropout(pre_output, 0.55, self.training)\n",
    "\n",
    "        out = F.relu(self.fc1(torch.cat(\n",
    "            [pre_output, convolution_output], 1)))\n",
    "\n",
    "        out = F.dropout(out, 0.4, self.training)\n",
    "        \n",
    "        out = F.relu(self.fc2(out))\n",
    "        out = F.dropout(out, 0.55, self.training)\n",
    "\n",
    "        return self.fc3(out)"
   ]
  },
  {
   "cell_type": "code",
   "execution_count": 263,
   "metadata": {},
   "outputs": [],
   "source": [
    "cnn38_result = cv_train_test(genes, normalized_features[:, order1_features], y, CNN38, 0.0003, 15000, folds=folds)"
   ]
  },
  {
   "cell_type": "code",
   "execution_count": null,
   "metadata": {},
   "outputs": [],
   "source": [
    "three_output_results = cv_train_test(genes, normalized_features[:, order1_features], y, CNN38ThreeOutput, 0.0003, 15003, folds=folds)"
   ]
  },
  {
   "cell_type": "code",
   "execution_count": 237,
   "metadata": {},
   "outputs": [
    {
     "data": {
      "text/plain": [
       "[0.65801398050655413,\n",
       " 0.68897808672599814,\n",
       " 0.69365085919015113,\n",
       " 0.69887396247822264,\n",
       " 0.72167928745028842]"
      ]
     },
     "execution_count": 237,
     "metadata": {},
     "output_type": "execute_result"
    }
   ],
   "source": [
    "\n",
    "three_output_results"
   ]
  },
  {
   "cell_type": "code",
   "execution_count": 238,
   "metadata": {},
   "outputs": [
    {
     "data": {
      "text/plain": [
       "[0.66346212654289327,\n",
       " 0.68172200487900547,\n",
       " 0.6770940902856557,\n",
       " 0.70999144257314584,\n",
       " 0.73020691566033014]"
      ]
     },
     "execution_count": 238,
     "metadata": {},
     "output_type": "execute_result"
    }
   ],
   "source": [
    "no_preproc_results"
   ]
  },
  {
   "cell_type": "code",
   "execution_count": 239,
   "metadata": {},
   "outputs": [
    {
     "data": {
      "text/plain": [
       "[0.67306788506340243,\n",
       " 0.67820428630812268,\n",
       " 0.68452475472631436,\n",
       " 0.70844064069131729,\n",
       " 0.72691381636930841]"
      ]
     },
     "execution_count": 239,
     "metadata": {},
     "output_type": "execute_result"
    }
   ],
   "source": [
    "sizes_conv_results"
   ]
  },
  {
   "cell_type": "code",
   "execution_count": 240,
   "metadata": {},
   "outputs": [
    {
     "data": {
      "text/plain": [
       "[0.68666108802791237,\n",
       " 0.70188352416888733,\n",
       " 0.65551494647987696,\n",
       " 0.68076562599838009,\n",
       " 0.69134121947247351]"
      ]
     },
     "execution_count": 240,
     "metadata": {},
     "output_type": "execute_result"
    }
   ],
   "source": [
    "three_conv_results"
   ]
  },
  {
   "cell_type": "code",
   "execution_count": 241,
   "metadata": {},
   "outputs": [
    {
     "data": {
      "text/plain": [
       "[0.66174671914079108,\n",
       " 0.68424951934589817,\n",
       " 0.64784226517384746,\n",
       " 0.66450566115001608,\n",
       " 0.68221324542003325]"
      ]
     },
     "execution_count": 241,
     "metadata": {},
     "output_type": "execute_result"
    }
   ],
   "source": [
    "one_conv_results"
   ]
  },
  {
   "cell_type": "code",
   "execution_count": 242,
   "metadata": {},
   "outputs": [
    {
     "data": {
      "text/plain": [
       "[0.66343209640128809,\n",
       " 0.68303396505842318,\n",
       " 0.69221076304419105,\n",
       " 0.69573759258510759,\n",
       " 0.72592914568402622]"
      ]
     },
     "execution_count": 242,
     "metadata": {},
     "output_type": "execute_result"
    }
   ],
   "source": [
    "three_output_avg_results"
   ]
  },
  {
   "cell_type": "code",
   "execution_count": 244,
   "metadata": {},
   "outputs": [
    {
     "data": {
      "text/plain": [
       "[0.67484413659638365,\n",
       " 0.67871418020466001,\n",
       " 0.68338228303244619,\n",
       " 0.68867827744571475,\n",
       " 0.72251520480650078]"
      ]
     },
     "execution_count": 244,
     "metadata": {},
     "output_type": "execute_result"
    }
   ],
   "source": [
    "# without conservation\n",
    "new_cnn38_three_output_wo_conv"
   ]
  },
  {
   "cell_type": "code",
   "execution_count": 245,
   "metadata": {},
   "outputs": [
    {
     "data": {
      "text/plain": [
       "[0.66281328388998084,\n",
       " 0.60957283457158995,\n",
       " 0.61657055923480775,\n",
       " 0.62898775158061748,\n",
       " 0.66057111027951987]"
      ]
     },
     "execution_count": 245,
     "metadata": {},
     "output_type": "execute_result"
    }
   ],
   "source": [
    "# no dropouts..\n",
    "lower_dropout_results"
   ]
  },
  {
   "cell_type": "code",
   "execution_count": 265,
   "metadata": {},
   "outputs": [
    {
     "data": {
      "text/plain": [
       "[0.66350404634458615,\n",
       " 0.68294239816414626,\n",
       " 0.67868348638964404,\n",
       " 0.69857831083703292,\n",
       " 0.73002726964277653]"
      ]
     },
     "execution_count": 265,
     "metadata": {},
     "output_type": "execute_result"
    }
   ],
   "source": [
    "# TODO cnn38 (before conv sizes changes, so safe this as conv size changes\n",
    "cnn38_result"
   ]
  },
  {
   "cell_type": "code",
   "execution_count": 261,
   "metadata": {},
   "outputs": [
    {
     "data": {
      "text/plain": [
       "[0.66281328388998084,\n",
       " 0.60957283457158995,\n",
       " 0.61657055923480775,\n",
       " 0.62898775158061748,\n",
       " 0.66057111027951987]"
      ]
     },
     "execution_count": 261,
     "metadata": {},
     "output_type": "execute_result"
    }
   ],
   "source": [
    "# this is WITHOUT dropouts\n",
    "lower_dropout_results"
   ]
  },
  {
   "cell_type": "code",
   "execution_count": 260,
   "metadata": {},
   "outputs": [
    {
     "data": {
      "text/plain": [
       "[0.65124578991614168,\n",
       " 0.66764278999848925,\n",
       " 0.680939442776062,\n",
       " 0.68991692748862887,\n",
       " 0.72593134974271811]"
      ]
     },
     "execution_count": 260,
     "metadata": {},
     "output_type": "execute_result"
    }
   ],
   "source": [
    "middle_dropout_results  # this is with a little dropout (0.2 and 0.3)"
   ]
  },
  {
   "cell_type": "code",
   "execution_count": 256,
   "metadata": {},
   "outputs": [
    {
     "data": {
      "text/plain": [
       "[0.63812159801509294,\n",
       " 0.67275246182312354,\n",
       " 0.67251549992529025,\n",
       " 0.68193278469254348,\n",
       " 0.71228573531614991]"
      ]
     },
     "execution_count": 256,
     "metadata": {},
     "output_type": "execute_result"
    }
   ],
   "source": [
    "too_high_dropout_results"
   ]
  },
  {
   "cell_type": "code",
   "execution_count": 257,
   "metadata": {},
   "outputs": [
    {
     "data": {
      "image/png": "[encoded data removed]",
      "text/plain": [
       "<matplotlib.figure.Figure at 0x7fa344625c50>"
      ]
     },
     "metadata": {},
     "output_type": "display_data"
    }
   ],
   "source": [
    "sns.boxplot(data=[three_output_results, no_preproc_results, sizes_conv_results, three_conv_results, one_conv_results, new_cnn38_three_output_wo_conv, three_output_avg_results, lower_dropout_results, middle_dropout_results, too_high_dropout_results, cv_spearmans1, cv_spearmans2, cv_spearmans3, cv_spearmans4])\n",
    "sns.despine()\n"
   ]
  },
  {
   "cell_type": "code",
   "execution_count": 253,
   "metadata": {},
   "outputs": [],
   "source": [
    "# last one: lower dropouts!\n",
    "class CNN38LowerDropout(nn.Module):\n",
    "    def __init__(self, input_size):\n",
    "        super(CNN38LowerDropout, self).__init__()\n",
    "\n",
    "        self.conv1 = nn.Conv1d(\n",
    "            in_channels=4, out_channels=256, kernel_size=7, stride=1)  # boost this?\n",
    "        self.conv2 = nn.Conv1d(\n",
    "            in_channels=256, out_channels=1024, kernel_size=3)\n",
    "        \n",
    "\n",
    "        # 128 kernels, 30-3 => 27/2 => 13-3 => 10/2 => 5\n",
    "        self._conv_output_dimension = 1024 * 2\n",
    "\n",
    "        # hidden layers, additional_features, conv output\n",
    "\n",
    "        self.pre_fc = nn.Linear(input_size, 256)\n",
    "        self.fc1 = nn.Linear(256 + self._conv_output_dimension, 512)\n",
    "        self.fc2 = nn.Linear(512, 64)\n",
    "        self.fc3 = nn.Linear(64, 1)\n",
    "\n",
    "        self.apply(weights_init)\n",
    "\n",
    "    def _forward_convolution(self, nuc_features):\n",
    "\n",
    "        conv_input = nuc_features.view(-1, 30, 4).permute(0, 2, 1)\n",
    "\n",
    "        conv1_output = F.relu(self.conv1(conv_input))\n",
    "        conv1_output = F.dropout(conv1_output, 0.65, self.training)\n",
    "\n",
    "\n",
    "        conv1_output = F.max_pool1d(conv1_output, 3)\n",
    "        conv2_output = F.relu(self.conv2(conv1_output))\n",
    "        conv2_output = F.dropout(conv2_output, 0.7, self.training)\n",
    "        conv2_output = F.max_pool1d(conv2_output, 3)\n",
    "        return conv2_output.view(-1, self._conv_output_dimension)\n",
    "\n",
    "    def forward(self, x):\n",
    "        nuc_features = x[:, :120]\n",
    "        nuc_features.contiguous()\n",
    "\n",
    "        convolution_output = self._forward_convolution(nuc_features)\n",
    "        # two fully connected hidden layers\n",
    "\n",
    "        pre_output = self.pre_fc(x)\n",
    "        pre_output = F.dropout(pre_output, 0.5, self.training)\n",
    "\n",
    "        out = F.relu(self.fc1(torch.cat(\n",
    "            [pre_output, convolution_output], 1)))\n",
    "\n",
    "        out = F.dropout(out, 0.6, self.training)\n",
    "        out = F.relu(self.fc2(out))\n",
    "        out = F.dropout(out, 0.7, self.training)\n",
    "\n",
    "        return self.fc3(out)"
   ]
  },
  {
   "cell_type": "code",
   "execution_count": null,
   "metadata": {},
   "outputs": [],
   "source": [
    "middle_dropout_results = cv_train_test(genes, normalized_features[:, order1_features], y, CNN38LowerDropout, 0.0003, 15002, folds=folds)\n"
   ]
  },
  {
   "cell_type": "code",
   "execution_count": 254,
   "metadata": {},
   "outputs": [
    {
     "name": "stderr",
     "output_type": "stream",
     "text": [
      "/home/giali/anaconda3/lib/python3.6/site-packages/numpy/lib/function_base.py:3003: RuntimeWarning: invalid value encountered in true_divide\n",
      "  c /= stddev[:, None]\n",
      "/home/giali/anaconda3/lib/python3.6/site-packages/numpy/lib/function_base.py:3004: RuntimeWarning: invalid value encountered in true_divide\n",
      "  c /= stddev[None, :]\n",
      "/home/giali/anaconda3/lib/python3.6/site-packages/scipy/stats/_distn_infrastructure.py:879: RuntimeWarning: invalid value encountered in greater\n",
      "  return (self.a < x) & (x < self.b)\n",
      "/home/giali/anaconda3/lib/python3.6/site-packages/scipy/stats/_distn_infrastructure.py:879: RuntimeWarning: invalid value encountered in less\n",
      "  return (self.a < x) & (x < self.b)\n",
      "/home/giali/anaconda3/lib/python3.6/site-packages/scipy/stats/_distn_infrastructure.py:1821: RuntimeWarning: invalid value encountered in less_equal\n",
      "  cond2 = cond0 & (x <= self.a)\n"
     ]
    }
   ],
   "source": [
    "too_high_dropout_results = cv_train_test(genes, normalized_features[:, order1_features], y, CNN38LowerDropout, 0.0003, 15002, folds=folds)\n"
   ]
  },
  {
   "cell_type": "code",
   "execution_count": 192,
   "metadata": {},
   "outputs": [
    {
     "data": {
      "text/plain": [
       "[0.66281328388998084,\n",
       " 0.60957283457158995,\n",
       " 0.61657055923480775,\n",
       " 0.62898775158061748,\n",
       " 0.66057111027951987]"
      ]
     },
     "execution_count": 192,
     "metadata": {},
     "output_type": "execute_result"
    }
   ],
   "source": [
    "lower_dropout_results"
   ]
  },
  {
   "cell_type": "code",
   "execution_count": null,
   "metadata": {},
   "outputs": [
    {
     "name": "stdout",
     "output_type": "stream",
     "text": [
      "1\n",
      "Experiment CNN38_0.0003_15000_MSELoss_160 already existed. Deleting.\n"
     ]
    }
   ],
   "source": [
    "\n",
    "configs = [\n",
    "    {'model_class': CNN38, 'feature_selector': order1_features, 'loss': nn.MSELoss(), 'learning_rate': 0.0003, 'epochs': 15000},\n",
    "    ]\n",
    "results = run_models(X_train, y_train, validation_fold, configs)\n",
    "model = results[0][2]\n",
    "predicted_labels = model(Variable(torch.from_numpy(X_test[:, order1_features]))).cpu().data.numpy()\n",
    "\n",
    "print(spearmanr(predicted_labels, y_test)[0])\n",
    "print(max(results[0][1]))"
   ]
  },
  {
   "cell_type": "code",
   "execution_count": 7,
   "metadata": {},
   "outputs": [
    {
     "name": "stdout",
     "output_type": "stream",
     "text": [
      "0.6332038254796858\n",
      "0.6324884048198914\n"
     ]
    }
   ],
   "source": [
    "print(spearmanr(predicted_labels, y_test)[0])\n",
    "print(max(results[0][1]))"
   ]
  },
  {
   "cell_type": "code",
   "execution_count": 11,
   "metadata": {},
   "outputs": [
    {
     "name": "stdout",
     "output_type": "stream",
     "text": [
      "Experiment CNN38_0.0003_3000_MSELoss_cv|0 already existed. Deleting.\n"
     ]
    },
    {
     "name": "stderr",
     "output_type": "stream",
     "text": [
      "/usr/lib/python3.6/site-packages/numpy/lib/function_base.py:3183: RuntimeWarning: invalid value encountered in true_divide\n",
      "  c /= stddev[:, None]\n",
      "/usr/lib/python3.6/site-packages/numpy/lib/function_base.py:3184: RuntimeWarning: invalid value encountered in true_divide\n",
      "  c /= stddev[None, :]\n",
      "/usr/lib/python3.6/site-packages/scipy/stats/_distn_infrastructure.py:879: RuntimeWarning: invalid value encountered in greater\n",
      "  return (self.a < x) & (x < self.b)\n",
      "/usr/lib/python3.6/site-packages/scipy/stats/_distn_infrastructure.py:879: RuntimeWarning: invalid value encountered in less\n",
      "  return (self.a < x) & (x < self.b)\n",
      "/usr/lib/python3.6/site-packages/scipy/stats/_distn_infrastructure.py:1818: RuntimeWarning: invalid value encountered in less_equal\n",
      "  cond2 = cond0 & (x <= self.a)\n"
     ]
    }
   ],
   "source": [
    "cv_result = cv_train_test(genes, normalized_features[:, order1_features], y, CNN38, 0.0003, 3000)"
   ]
  },
  {
   "cell_type": "code",
   "execution_count": 262,
   "metadata": {},
   "outputs": [
    {
     "ename": "NameError",
     "evalue": "name 'cv_result' is not defined",
     "output_type": "error",
     "traceback": [
      "\u001b[0;31m---------------------------------------------------------------------------\u001b[0m",
      "\u001b[0;31mNameError\u001b[0m                                 Traceback (most recent call last)",
      "\u001b[0;32m<ipython-input-262-f4edadd5d326>\u001b[0m in \u001b[0;36m<module>\u001b[0;34m()\u001b[0m\n\u001b[0;32m----> 1\u001b[0;31m \u001b[0mcv_result\u001b[0m\u001b[0;34m\u001b[0m\u001b[0m\n\u001b[0m",
      "\u001b[0;31mNameError\u001b[0m: name 'cv_result' is not defined"
     ]
    }
   ],
   "source": [
    "cv_result"
   ]
  },
  {
   "cell_type": "code",
   "execution_count": 12,
   "metadata": {},
   "outputs": [
    {
     "name": "stdout",
     "output_type": "stream",
     "text": [
      "Experiment CNN38_0.0003_6000_MSELoss_1600 already existed. Deleting.\n",
      "Experiment CNN38_0.0003_6000_MSELoss_1601 already existed. Deleting.\n"
     ]
    },
    {
     "ename": "KeyboardInterrupt",
     "evalue": "",
     "output_type": "error",
     "traceback": [
      "\u001b[0;31m---------------------------------------------------------------------------\u001b[0m",
      "\u001b[0;31mTypeError\u001b[0m                                 Traceback (most recent call last)",
      "\u001b[0;32m/usr/lib/python3.6/site-packages/urllib3/connectionpool.py\u001b[0m in \u001b[0;36m_make_request\u001b[0;34m(self, conn, method, url, timeout, chunked, **httplib_request_kw)\u001b[0m\n\u001b[1;32m    379\u001b[0m             \u001b[0;32mtry\u001b[0m\u001b[0;34m:\u001b[0m  \u001b[0;31m# Python 2.7, use buffering of HTTP responses\u001b[0m\u001b[0;34m\u001b[0m\u001b[0m\n\u001b[0;32m--> 380\u001b[0;31m                 \u001b[0mhttplib_response\u001b[0m \u001b[0;34m=\u001b[0m \u001b[0mconn\u001b[0m\u001b[0;34m.\u001b[0m\u001b[0mgetresponse\u001b[0m\u001b[0;34m(\u001b[0m\u001b[0mbuffering\u001b[0m\u001b[0;34m=\u001b[0m\u001b[0;32mTrue\u001b[0m\u001b[0;34m)\u001b[0m\u001b[0;34m\u001b[0m\u001b[0m\n\u001b[0m\u001b[1;32m    381\u001b[0m             \u001b[0;32mexcept\u001b[0m \u001b[0mTypeError\u001b[0m\u001b[0;34m:\u001b[0m  \u001b[0;31m# Python 2.6 and older, Python 3\u001b[0m\u001b[0;34m\u001b[0m\u001b[0m\n",
      "\u001b[0;31mTypeError\u001b[0m: getresponse() got an unexpected keyword argument 'buffering'",
      "\nDuring handling of the above exception, another exception occurred:\n",
      "\u001b[0;31mKeyboardInterrupt\u001b[0m                         Traceback (most recent call last)",
      "\u001b[0;32m<ipython-input-12-40538ba78f42>\u001b[0m in \u001b[0;36m<module>\u001b[0;34m()\u001b[0m\n\u001b[1;32m      5\u001b[0m                                                 \u001b[0;36m10\u001b[0m\u001b[0;34m,\u001b[0m\u001b[0;34m\u001b[0m\u001b[0m\n\u001b[1;32m      6\u001b[0m                                                 \u001b[0;36m0.0003\u001b[0m\u001b[0;34m,\u001b[0m\u001b[0;34m\u001b[0m\u001b[0m\n\u001b[0;32m----> 7\u001b[0;31m                                                 6000)\n\u001b[0m",
      "\u001b[0;32m~/Projects/credit/pavooc/scoring/helper.py\u001b[0m in \u001b[0;36mtrain_predict_n_shuffles\u001b[0;34m(model_class, normalized_features, feature_selector, y, num_runs, learning_rate, epochs)\u001b[0m\n\u001b[1;32m     73\u001b[0m                 \u001b[0mmodel_class\u001b[0m\u001b[0;34m,\u001b[0m\u001b[0;34m\u001b[0m\u001b[0m\n\u001b[1;32m     74\u001b[0m                 \u001b[0mtorch\u001b[0m\u001b[0;34m.\u001b[0m\u001b[0mnn\u001b[0m\u001b[0;34m.\u001b[0m\u001b[0mMSELoss\u001b[0m\u001b[0;34m(\u001b[0m\u001b[0;34m)\u001b[0m\u001b[0;34m,\u001b[0m\u001b[0;34m\u001b[0m\u001b[0m\n\u001b[0;32m---> 75\u001b[0;31m                 learning_rate, epochs, feature_selector, str(i))\n\u001b[0m\u001b[1;32m     76\u001b[0m         \u001b[0msps\u001b[0m\u001b[0;34m.\u001b[0m\u001b[0mappend\u001b[0m\u001b[0;34m(\u001b[0m\u001b[0mnp\u001b[0m\u001b[0;34m.\u001b[0m\u001b[0mmax\u001b[0m\u001b[0;34m(\u001b[0m\u001b[0mpredictions\u001b[0m\u001b[0;34m)\u001b[0m\u001b[0;34m)\u001b[0m\u001b[0;34m\u001b[0m\u001b[0m\n\u001b[1;32m     77\u001b[0m         predicted_labels = model(\n",
      "\u001b[0;32m~/Projects/credit/pavooc/scoring/helper.py\u001b[0m in \u001b[0;36mrun_model\u001b[0;34m(combined_features, y, validation_fold, model_class, loss, learning_rate, epochs, feature_selector, postfix)\u001b[0m\n\u001b[1;32m     34\u001b[0m         combined_features[:,\n\u001b[1;32m     35\u001b[0m                           feature_selector], y, validation_fold, model_class,\n\u001b[0;32m---> 36\u001b[0;31m         learning_rate, loss, epochs, tensorboard_experiment)\n\u001b[0m\u001b[1;32m     37\u001b[0m     \u001b[0;32mreturn\u001b[0m \u001b[0mlosses\u001b[0m\u001b[0;34m,\u001b[0m \u001b[0mspearmans\u001b[0m\u001b[0;34m,\u001b[0m \u001b[0mmodel\u001b[0m\u001b[0;34m\u001b[0m\u001b[0m\n\u001b[1;32m     38\u001b[0m \u001b[0;34m\u001b[0m\u001b[0m\n",
      "\u001b[0;32m~/Projects/credit/pavooc/scoring/training.py\u001b[0m in \u001b[0;36mtrain_predict\u001b[0;34m(combined_features, y, validation_fold, model_class, learning_rate, loss, epochs, tensorboard_experiment)\u001b[0m\n\u001b[1;32m    182\u001b[0m                         tensorboard_experiment.add_histogram_value(\n\u001b[1;32m    183\u001b[0m                             \u001b[0mtag\u001b[0m\u001b[0;34m,\u001b[0m \u001b[0mto_np\u001b[0m\u001b[0;34m(\u001b[0m\u001b[0mvalue\u001b[0m\u001b[0;34m)\u001b[0m\u001b[0;34m.\u001b[0m\u001b[0mflatten\u001b[0m\u001b[0;34m(\u001b[0m\u001b[0;34m)\u001b[0m\u001b[0;34m.\u001b[0m\u001b[0mtolist\u001b[0m\u001b[0;34m(\u001b[0m\u001b[0;34m)\u001b[0m\u001b[0;34m,\u001b[0m \u001b[0mtobuild\u001b[0m\u001b[0;34m=\u001b[0m\u001b[0;32mTrue\u001b[0m\u001b[0;34m,\u001b[0m\u001b[0;34m\u001b[0m\u001b[0m\n\u001b[0;32m--> 184\u001b[0;31m                             step=epoch_idx + 1)\n\u001b[0m\u001b[1;32m    185\u001b[0m                         tensorboard_experiment.add_histogram_value(\n\u001b[1;32m    186\u001b[0m                             \u001b[0;34m'{}/grad'\u001b[0m\u001b[0;34m.\u001b[0m\u001b[0mformat\u001b[0m\u001b[0;34m(\u001b[0m\u001b[0mtag\u001b[0m\u001b[0;34m)\u001b[0m\u001b[0;34m,\u001b[0m \u001b[0mto_np\u001b[0m\u001b[0;34m(\u001b[0m\u001b[0mvalue\u001b[0m\u001b[0;34m.\u001b[0m\u001b[0mgrad\u001b[0m\u001b[0;34m)\u001b[0m\u001b[0;34m.\u001b[0m\u001b[0mflatten\u001b[0m\u001b[0;34m(\u001b[0m\u001b[0;34m)\u001b[0m\u001b[0;34m.\u001b[0m\u001b[0mtolist\u001b[0m\u001b[0;34m(\u001b[0m\u001b[0;34m)\u001b[0m\u001b[0;34m,\u001b[0m\u001b[0;34m\u001b[0m\u001b[0m\n",
      "\u001b[0;32m/usr/lib/python3.6/site-packages/pycrayon/crayon.py\u001b[0m in \u001b[0;36madd_histogram_value\u001b[0;34m(self, name, hist, tobuild, wall_time, step)\u001b[0m\n\u001b[1;32m    192\u001b[0m \u001b[0;34m\u001b[0m\u001b[0m\n\u001b[1;32m    193\u001b[0m         \u001b[0mdata\u001b[0m \u001b[0;34m=\u001b[0m \u001b[0;34m[\u001b[0m\u001b[0mwall_time\u001b[0m\u001b[0;34m,\u001b[0m \u001b[0mstep\u001b[0m\u001b[0;34m,\u001b[0m \u001b[0mhist\u001b[0m\u001b[0;34m]\u001b[0m\u001b[0;34m\u001b[0m\u001b[0m\n\u001b[0;32m--> 194\u001b[0;31m         \u001b[0mr\u001b[0m \u001b[0;34m=\u001b[0m \u001b[0mrequests\u001b[0m\u001b[0;34m.\u001b[0m\u001b[0mpost\u001b[0m\u001b[0;34m(\u001b[0m\u001b[0mself\u001b[0m\u001b[0;34m.\u001b[0m\u001b[0mclient\u001b[0m\u001b[0;34m.\u001b[0m\u001b[0murl\u001b[0m \u001b[0;34m+\u001b[0m \u001b[0mquery\u001b[0m\u001b[0;34m,\u001b[0m \u001b[0mjson\u001b[0m\u001b[0;34m=\u001b[0m\u001b[0mdata\u001b[0m\u001b[0;34m)\u001b[0m\u001b[0;34m\u001b[0m\u001b[0m\n\u001b[0m\u001b[1;32m    195\u001b[0m         \u001b[0;32mif\u001b[0m \u001b[0;32mnot\u001b[0m \u001b[0mr\u001b[0m\u001b[0;34m.\u001b[0m\u001b[0mok\u001b[0m\u001b[0;34m:\u001b[0m\u001b[0;34m\u001b[0m\u001b[0m\n\u001b[1;32m    196\u001b[0m             raise ValueError(\n",
      "\u001b[0;32m/usr/lib/python3.6/site-packages/requests/api.py\u001b[0m in \u001b[0;36mpost\u001b[0;34m(url, data, json, **kwargs)\u001b[0m\n\u001b[1;32m    110\u001b[0m     \"\"\"\n\u001b[1;32m    111\u001b[0m \u001b[0;34m\u001b[0m\u001b[0m\n\u001b[0;32m--> 112\u001b[0;31m     \u001b[0;32mreturn\u001b[0m \u001b[0mrequest\u001b[0m\u001b[0;34m(\u001b[0m\u001b[0;34m'post'\u001b[0m\u001b[0;34m,\u001b[0m \u001b[0murl\u001b[0m\u001b[0;34m,\u001b[0m \u001b[0mdata\u001b[0m\u001b[0;34m=\u001b[0m\u001b[0mdata\u001b[0m\u001b[0;34m,\u001b[0m \u001b[0mjson\u001b[0m\u001b[0;34m=\u001b[0m\u001b[0mjson\u001b[0m\u001b[0;34m,\u001b[0m \u001b[0;34m**\u001b[0m\u001b[0mkwargs\u001b[0m\u001b[0;34m)\u001b[0m\u001b[0;34m\u001b[0m\u001b[0m\n\u001b[0m\u001b[1;32m    113\u001b[0m \u001b[0;34m\u001b[0m\u001b[0m\n\u001b[1;32m    114\u001b[0m \u001b[0;34m\u001b[0m\u001b[0m\n",
      "\u001b[0;32m/usr/lib/python3.6/site-packages/requests/api.py\u001b[0m in \u001b[0;36mrequest\u001b[0;34m(method, url, **kwargs)\u001b[0m\n\u001b[1;32m     56\u001b[0m     \u001b[0;31m# cases, and look like a memory leak in others.\u001b[0m\u001b[0;34m\u001b[0m\u001b[0;34m\u001b[0m\u001b[0m\n\u001b[1;32m     57\u001b[0m     \u001b[0;32mwith\u001b[0m \u001b[0msessions\u001b[0m\u001b[0;34m.\u001b[0m\u001b[0mSession\u001b[0m\u001b[0;34m(\u001b[0m\u001b[0;34m)\u001b[0m \u001b[0;32mas\u001b[0m \u001b[0msession\u001b[0m\u001b[0;34m:\u001b[0m\u001b[0;34m\u001b[0m\u001b[0m\n\u001b[0;32m---> 58\u001b[0;31m         \u001b[0;32mreturn\u001b[0m \u001b[0msession\u001b[0m\u001b[0;34m.\u001b[0m\u001b[0mrequest\u001b[0m\u001b[0;34m(\u001b[0m\u001b[0mmethod\u001b[0m\u001b[0;34m=\u001b[0m\u001b[0mmethod\u001b[0m\u001b[0;34m,\u001b[0m \u001b[0murl\u001b[0m\u001b[0;34m=\u001b[0m\u001b[0murl\u001b[0m\u001b[0;34m,\u001b[0m \u001b[0;34m**\u001b[0m\u001b[0mkwargs\u001b[0m\u001b[0;34m)\u001b[0m\u001b[0;34m\u001b[0m\u001b[0m\n\u001b[0m\u001b[1;32m     59\u001b[0m \u001b[0;34m\u001b[0m\u001b[0m\n\u001b[1;32m     60\u001b[0m \u001b[0;34m\u001b[0m\u001b[0m\n",
      "\u001b[0;32m/usr/lib/python3.6/site-packages/requests/sessions.py\u001b[0m in \u001b[0;36mrequest\u001b[0;34m(self, method, url, params, data, headers, cookies, files, auth, timeout, allow_redirects, proxies, hooks, stream, verify, cert, json)\u001b[0m\n\u001b[1;32m    506\u001b[0m         }\n\u001b[1;32m    507\u001b[0m         \u001b[0msend_kwargs\u001b[0m\u001b[0;34m.\u001b[0m\u001b[0mupdate\u001b[0m\u001b[0;34m(\u001b[0m\u001b[0msettings\u001b[0m\u001b[0;34m)\u001b[0m\u001b[0;34m\u001b[0m\u001b[0m\n\u001b[0;32m--> 508\u001b[0;31m         \u001b[0mresp\u001b[0m \u001b[0;34m=\u001b[0m \u001b[0mself\u001b[0m\u001b[0;34m.\u001b[0m\u001b[0msend\u001b[0m\u001b[0;34m(\u001b[0m\u001b[0mprep\u001b[0m\u001b[0;34m,\u001b[0m \u001b[0;34m**\u001b[0m\u001b[0msend_kwargs\u001b[0m\u001b[0;34m)\u001b[0m\u001b[0;34m\u001b[0m\u001b[0m\n\u001b[0m\u001b[1;32m    509\u001b[0m \u001b[0;34m\u001b[0m\u001b[0m\n\u001b[1;32m    510\u001b[0m         \u001b[0;32mreturn\u001b[0m \u001b[0mresp\u001b[0m\u001b[0;34m\u001b[0m\u001b[0m\n",
      "\u001b[0;32m/usr/lib/python3.6/site-packages/requests/sessions.py\u001b[0m in \u001b[0;36msend\u001b[0;34m(self, request, **kwargs)\u001b[0m\n\u001b[1;32m    616\u001b[0m \u001b[0;34m\u001b[0m\u001b[0m\n\u001b[1;32m    617\u001b[0m         \u001b[0;31m# Send the request\u001b[0m\u001b[0;34m\u001b[0m\u001b[0;34m\u001b[0m\u001b[0m\n\u001b[0;32m--> 618\u001b[0;31m         \u001b[0mr\u001b[0m \u001b[0;34m=\u001b[0m \u001b[0madapter\u001b[0m\u001b[0;34m.\u001b[0m\u001b[0msend\u001b[0m\u001b[0;34m(\u001b[0m\u001b[0mrequest\u001b[0m\u001b[0;34m,\u001b[0m \u001b[0;34m**\u001b[0m\u001b[0mkwargs\u001b[0m\u001b[0;34m)\u001b[0m\u001b[0;34m\u001b[0m\u001b[0m\n\u001b[0m\u001b[1;32m    619\u001b[0m \u001b[0;34m\u001b[0m\u001b[0m\n\u001b[1;32m    620\u001b[0m         \u001b[0;31m# Total elapsed time of the request (approximately)\u001b[0m\u001b[0;34m\u001b[0m\u001b[0;34m\u001b[0m\u001b[0m\n",
      "\u001b[0;32m/usr/lib/python3.6/site-packages/requests/adapters.py\u001b[0m in \u001b[0;36msend\u001b[0;34m(self, request, stream, timeout, verify, cert, proxies)\u001b[0m\n\u001b[1;32m    438\u001b[0m                     \u001b[0mdecode_content\u001b[0m\u001b[0;34m=\u001b[0m\u001b[0;32mFalse\u001b[0m\u001b[0;34m,\u001b[0m\u001b[0;34m\u001b[0m\u001b[0m\n\u001b[1;32m    439\u001b[0m                     \u001b[0mretries\u001b[0m\u001b[0;34m=\u001b[0m\u001b[0mself\u001b[0m\u001b[0;34m.\u001b[0m\u001b[0mmax_retries\u001b[0m\u001b[0;34m,\u001b[0m\u001b[0;34m\u001b[0m\u001b[0m\n\u001b[0;32m--> 440\u001b[0;31m                     \u001b[0mtimeout\u001b[0m\u001b[0;34m=\u001b[0m\u001b[0mtimeout\u001b[0m\u001b[0;34m\u001b[0m\u001b[0m\n\u001b[0m\u001b[1;32m    441\u001b[0m                 )\n\u001b[1;32m    442\u001b[0m \u001b[0;34m\u001b[0m\u001b[0m\n",
      "\u001b[0;32m/usr/lib/python3.6/site-packages/urllib3/connectionpool.py\u001b[0m in \u001b[0;36murlopen\u001b[0;34m(self, method, url, body, headers, retries, redirect, assert_same_host, timeout, pool_timeout, release_conn, chunked, body_pos, **response_kw)\u001b[0m\n\u001b[1;32m    599\u001b[0m                                                   \u001b[0mtimeout\u001b[0m\u001b[0;34m=\u001b[0m\u001b[0mtimeout_obj\u001b[0m\u001b[0;34m,\u001b[0m\u001b[0;34m\u001b[0m\u001b[0m\n\u001b[1;32m    600\u001b[0m                                                   \u001b[0mbody\u001b[0m\u001b[0;34m=\u001b[0m\u001b[0mbody\u001b[0m\u001b[0;34m,\u001b[0m \u001b[0mheaders\u001b[0m\u001b[0;34m=\u001b[0m\u001b[0mheaders\u001b[0m\u001b[0;34m,\u001b[0m\u001b[0;34m\u001b[0m\u001b[0m\n\u001b[0;32m--> 601\u001b[0;31m                                                   chunked=chunked)\n\u001b[0m\u001b[1;32m    602\u001b[0m \u001b[0;34m\u001b[0m\u001b[0m\n\u001b[1;32m    603\u001b[0m             \u001b[0;31m# If we're going to release the connection in ``finally:``, then\u001b[0m\u001b[0;34m\u001b[0m\u001b[0;34m\u001b[0m\u001b[0m\n",
      "\u001b[0;32m/usr/lib/python3.6/site-packages/urllib3/connectionpool.py\u001b[0m in \u001b[0;36m_make_request\u001b[0;34m(self, conn, method, url, timeout, chunked, **httplib_request_kw)\u001b[0m\n\u001b[1;32m    381\u001b[0m             \u001b[0;32mexcept\u001b[0m \u001b[0mTypeError\u001b[0m\u001b[0;34m:\u001b[0m  \u001b[0;31m# Python 2.6 and older, Python 3\u001b[0m\u001b[0;34m\u001b[0m\u001b[0m\n\u001b[1;32m    382\u001b[0m                 \u001b[0;32mtry\u001b[0m\u001b[0;34m:\u001b[0m\u001b[0;34m\u001b[0m\u001b[0m\n\u001b[0;32m--> 383\u001b[0;31m                     \u001b[0mhttplib_response\u001b[0m \u001b[0;34m=\u001b[0m \u001b[0mconn\u001b[0m\u001b[0;34m.\u001b[0m\u001b[0mgetresponse\u001b[0m\u001b[0;34m(\u001b[0m\u001b[0;34m)\u001b[0m\u001b[0;34m\u001b[0m\u001b[0m\n\u001b[0m\u001b[1;32m    384\u001b[0m                 \u001b[0;32mexcept\u001b[0m \u001b[0mException\u001b[0m \u001b[0;32mas\u001b[0m \u001b[0me\u001b[0m\u001b[0;34m:\u001b[0m\u001b[0;34m\u001b[0m\u001b[0m\n\u001b[1;32m    385\u001b[0m                     \u001b[0;31m# Remove the TypeError from the exception chain in Python 3;\u001b[0m\u001b[0;34m\u001b[0m\u001b[0;34m\u001b[0m\u001b[0m\n",
      "\u001b[0;32m/usr/lib/python3.6/http/client.py\u001b[0m in \u001b[0;36mgetresponse\u001b[0;34m(self)\u001b[0m\n\u001b[1;32m   1329\u001b[0m         \u001b[0;32mtry\u001b[0m\u001b[0;34m:\u001b[0m\u001b[0;34m\u001b[0m\u001b[0m\n\u001b[1;32m   1330\u001b[0m             \u001b[0;32mtry\u001b[0m\u001b[0;34m:\u001b[0m\u001b[0;34m\u001b[0m\u001b[0m\n\u001b[0;32m-> 1331\u001b[0;31m                 \u001b[0mresponse\u001b[0m\u001b[0;34m.\u001b[0m\u001b[0mbegin\u001b[0m\u001b[0;34m(\u001b[0m\u001b[0;34m)\u001b[0m\u001b[0;34m\u001b[0m\u001b[0m\n\u001b[0m\u001b[1;32m   1332\u001b[0m             \u001b[0;32mexcept\u001b[0m \u001b[0mConnectionError\u001b[0m\u001b[0;34m:\u001b[0m\u001b[0;34m\u001b[0m\u001b[0m\n\u001b[1;32m   1333\u001b[0m                 \u001b[0mself\u001b[0m\u001b[0;34m.\u001b[0m\u001b[0mclose\u001b[0m\u001b[0;34m(\u001b[0m\u001b[0;34m)\u001b[0m\u001b[0;34m\u001b[0m\u001b[0m\n",
      "\u001b[0;32m/usr/lib/python3.6/http/client.py\u001b[0m in \u001b[0;36mbegin\u001b[0;34m(self)\u001b[0m\n\u001b[1;32m    295\u001b[0m         \u001b[0;31m# read until we get a non-100 response\u001b[0m\u001b[0;34m\u001b[0m\u001b[0;34m\u001b[0m\u001b[0m\n\u001b[1;32m    296\u001b[0m         \u001b[0;32mwhile\u001b[0m \u001b[0;32mTrue\u001b[0m\u001b[0;34m:\u001b[0m\u001b[0;34m\u001b[0m\u001b[0m\n\u001b[0;32m--> 297\u001b[0;31m             \u001b[0mversion\u001b[0m\u001b[0;34m,\u001b[0m \u001b[0mstatus\u001b[0m\u001b[0;34m,\u001b[0m \u001b[0mreason\u001b[0m \u001b[0;34m=\u001b[0m \u001b[0mself\u001b[0m\u001b[0;34m.\u001b[0m\u001b[0m_read_status\u001b[0m\u001b[0;34m(\u001b[0m\u001b[0;34m)\u001b[0m\u001b[0;34m\u001b[0m\u001b[0m\n\u001b[0m\u001b[1;32m    298\u001b[0m             \u001b[0;32mif\u001b[0m \u001b[0mstatus\u001b[0m \u001b[0;34m!=\u001b[0m \u001b[0mCONTINUE\u001b[0m\u001b[0;34m:\u001b[0m\u001b[0;34m\u001b[0m\u001b[0m\n\u001b[1;32m    299\u001b[0m                 \u001b[0;32mbreak\u001b[0m\u001b[0;34m\u001b[0m\u001b[0m\n",
      "\u001b[0;32m/usr/lib/python3.6/http/client.py\u001b[0m in \u001b[0;36m_read_status\u001b[0;34m(self)\u001b[0m\n\u001b[1;32m    256\u001b[0m \u001b[0;34m\u001b[0m\u001b[0m\n\u001b[1;32m    257\u001b[0m     \u001b[0;32mdef\u001b[0m \u001b[0m_read_status\u001b[0m\u001b[0;34m(\u001b[0m\u001b[0mself\u001b[0m\u001b[0;34m)\u001b[0m\u001b[0;34m:\u001b[0m\u001b[0;34m\u001b[0m\u001b[0m\n\u001b[0;32m--> 258\u001b[0;31m         \u001b[0mline\u001b[0m \u001b[0;34m=\u001b[0m \u001b[0mstr\u001b[0m\u001b[0;34m(\u001b[0m\u001b[0mself\u001b[0m\u001b[0;34m.\u001b[0m\u001b[0mfp\u001b[0m\u001b[0;34m.\u001b[0m\u001b[0mreadline\u001b[0m\u001b[0;34m(\u001b[0m\u001b[0m_MAXLINE\u001b[0m \u001b[0;34m+\u001b[0m \u001b[0;36m1\u001b[0m\u001b[0;34m)\u001b[0m\u001b[0;34m,\u001b[0m \u001b[0;34m\"iso-8859-1\"\u001b[0m\u001b[0;34m)\u001b[0m\u001b[0;34m\u001b[0m\u001b[0m\n\u001b[0m\u001b[1;32m    259\u001b[0m         \u001b[0;32mif\u001b[0m \u001b[0mlen\u001b[0m\u001b[0;34m(\u001b[0m\u001b[0mline\u001b[0m\u001b[0;34m)\u001b[0m \u001b[0;34m>\u001b[0m \u001b[0m_MAXLINE\u001b[0m\u001b[0;34m:\u001b[0m\u001b[0;34m\u001b[0m\u001b[0m\n\u001b[1;32m    260\u001b[0m             \u001b[0;32mraise\u001b[0m \u001b[0mLineTooLong\u001b[0m\u001b[0;34m(\u001b[0m\u001b[0;34m\"status line\"\u001b[0m\u001b[0;34m)\u001b[0m\u001b[0;34m\u001b[0m\u001b[0m\n",
      "\u001b[0;32m/usr/lib/python3.6/socket.py\u001b[0m in \u001b[0;36mreadinto\u001b[0;34m(self, b)\u001b[0m\n\u001b[1;32m    584\u001b[0m         \u001b[0;32mwhile\u001b[0m \u001b[0;32mTrue\u001b[0m\u001b[0;34m:\u001b[0m\u001b[0;34m\u001b[0m\u001b[0m\n\u001b[1;32m    585\u001b[0m             \u001b[0;32mtry\u001b[0m\u001b[0;34m:\u001b[0m\u001b[0;34m\u001b[0m\u001b[0m\n\u001b[0;32m--> 586\u001b[0;31m                 \u001b[0;32mreturn\u001b[0m \u001b[0mself\u001b[0m\u001b[0;34m.\u001b[0m\u001b[0m_sock\u001b[0m\u001b[0;34m.\u001b[0m\u001b[0mrecv_into\u001b[0m\u001b[0;34m(\u001b[0m\u001b[0mb\u001b[0m\u001b[0;34m)\u001b[0m\u001b[0;34m\u001b[0m\u001b[0m\n\u001b[0m\u001b[1;32m    587\u001b[0m             \u001b[0;32mexcept\u001b[0m \u001b[0mtimeout\u001b[0m\u001b[0;34m:\u001b[0m\u001b[0;34m\u001b[0m\u001b[0m\n\u001b[1;32m    588\u001b[0m                 \u001b[0mself\u001b[0m\u001b[0;34m.\u001b[0m\u001b[0m_timeout_occurred\u001b[0m \u001b[0;34m=\u001b[0m \u001b[0;32mTrue\u001b[0m\u001b[0;34m\u001b[0m\u001b[0m\n",
      "\u001b[0;31mKeyboardInterrupt\u001b[0m: "
     ]
    }
   ],
   "source": [
    "rand_shuffle_results = train_predict_n_shuffles(CNN38, \n",
    "                                                normalized_features,\n",
    "                                                order1_features,\n",
    "                                                y,\n",
    "                                                10,\n",
    "                                                0.0003,\n",
    "                                                6000)"
   ]
  }
 ],
 "metadata": {
  "kernelspec": {
   "display_name": "Python 3",
   "language": "python",
   "name": "python3"
  },
  "language_info": {
   "codemirror_mode": {
    "name": "ipython",
    "version": 3
   },
   "file_extension": ".py",
   "mimetype": "text/x-python",
   "name": "python",
   "nbconvert_exporter": "python",
   "pygments_lexer": "ipython3",
   "version": "3.6.4"
  }
 },
 "nbformat": 4,
 "nbformat_minor": 2
}
